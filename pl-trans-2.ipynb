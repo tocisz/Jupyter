{
 "cells": [
  {
   "attachments": {},
   "cell_type": "markdown",
   "metadata": {},
   "source": [
    "# Translacja\n",
    "Chodzi o to żeby przekształcić tekst, aby dało się go wyrenderować przy pomocy mojego specjalnego fontu dla systemu stenografii.\n",
    "Założeniem systemu stenografii jest to, żeby nie trzeba było odrywać pióra przy pisaniu wyrazu.\n",
    "\n",
    "Idea systemu:\n",
    "1. Pisze się wokół linii środkowej ciągnąc kreskę do linii górnej lub dolnej i prawie zawsze (oprócz końca wyrazu) wracając do linii środkowej\n",
    "1. Kreski mają różne (proste) kształy (w sumie 11)\n",
    "1. Spółgłoski oznaczane są kreską od linii środkowej w górę lub w dół (różne spółgłoski dla lustrzanej kreski idącej w górę i w dół)\n",
    "1. Samogłoski oznaczane są kreską od linii górnej lub dolnej do środkowej (ta sama samogłoska może być napisana wracając z góry jak i z dołu po przez lustrzane odbicie)\n",
    "1. Jeśli występują po sobie dwie spółgłoski lub dwie samogłoski, to między nimi następuje powrót przy pomocy linii pionowej\n",
    "1. Na końcu spółgłoski może dodany być jeden z dwóch akcentów (kreska i kółko/pętelka)\n",
    "1. Na końcu samogłoski może dodany być akcent (mała skośna linia i powrót) który zmienia `e` na `ę`, `a` na `ą`\n",
    "1. Generalnie to można pisać też samogłoski poziomo, na linii środkowej, co jest przydatne gdy samogłoska następuje po samogłosce. Jest to obsłużone przez specjalne ligatury. Póki co tylko `ie` i `ia`.\n",
    "\n",
    "## Transkrypcja\n",
    "\n",
    "Pierwszą fazą jest podzielenie tekstu na głoski."
   ]
  },
  {
   "cell_type": "code",
   "execution_count": 1,
   "metadata": {},
   "outputs": [
    {
     "data": {
      "text/plain": [
       "'nie! dąsać się-proszę.!'"
      ]
     },
     "execution_count": 1,
     "metadata": {},
     "output_type": "execute_result"
    }
   ],
   "source": [
    "import re\n",
    "\n",
    "space_pattern = re.compile(r'\\s+')\n",
    "illegal_pattern = re.compile(r'[0-9/\\\\]+')\n",
    "def cleanup(t):\n",
    "    return re.sub(space_pattern, ' ', re.sub(illegal_pattern, '', t.lower()))\n",
    "\n",
    "cleanup(\"Nie! 117  dąsać się-pROszę.!\")"
   ]
  },
  {
   "cell_type": "code",
   "execution_count": 2,
   "metadata": {},
   "outputs": [
    {
     "name": "stdout",
     "output_type": "stream",
     "text": [
      "['z', 'a', 'sz', 'cz', 'u', 't', 'e', ' ', 'rz', 'e', 'ź', 'n', 'i', 'c', 'k', 'i', 'e', ' ', 'dż', 'dż', 'o', 'w', 'n', 'i', 'c', 'e', ' ', 'dź', 'w', 'i', 'ę', 'cz', 'ą', ' ', 'dz', 'i', 's', 'i', 'a', 'j', ' ', 'dz', 'dz', ' ']\n"
     ]
    }
   ],
   "source": [
    "split_pattern = re.compile(r'(sz|cz|rz|dz|dź|dż|ch)')\n",
    "def dziel(t):\n",
    "    pos = 0\n",
    "    for m in re.finditer(split_pattern, t):\n",
    "        s = m.span()\n",
    "        if m.start() != pos:\n",
    "            for c in t[pos:m.start()]:\n",
    "                yield c\n",
    "        yield m[1]\n",
    "        pos = m.end()\n",
    "    if pos < len(t):\n",
    "        for c in t[pos:]:\n",
    "            yield c\n",
    "\n",
    "print(list(dziel('zaszczute rzeźnickie dżdżownice dźwięczą dzisiaj dzdz ')))"
   ]
  },
  {
   "cell_type": "code",
   "execution_count": 3,
   "metadata": {},
   "outputs": [],
   "source": [
    "def czy_samlgloska(s):\n",
    "    return s in ['a','i','e','o','y','u','ę','ą','ó']\n",
    "\n",
    "def czy_spolgloska(s):\n",
    "    return str.isalpha(s) and not czy_samlgloska(s)"
   ]
  },
  {
   "attachments": {},
   "cell_type": "markdown",
   "metadata": {},
   "source": [
    "\n",
    "Utożsamiane są niektóre głoski. Mamy podstawienia:\n",
    "- `ch` -> `h`\n",
    "- `rz` -> `ż`\n",
    "- `ó` -> `u`\n",
    "\n",
    "Akcent pierwszy (kreska) daje podstawienia (`1` oznacza górną formę akcentu, `3` oznacza dolną)\n",
    "- `ś` -> `s1`\n",
    "- `ć` -> `c1`\n",
    "- `dź` -> `dz1`\n",
    "- `ź` -> `z3`\n",
    "- `ń` -> `n3`\n",
    "\n",
    "Akcent drugi (kółko/pentelka) oznaczana przez `2`/`4` (górne/dolne) daje:\n",
    "- `sz` -> `s2`\n",
    "- `cz` -> `c2`\n",
    "- `dż` -> `dz2`\n",
    "- `ż` -> `z4`"
   ]
  },
  {
   "cell_type": "code",
   "execution_count": 4,
   "metadata": {},
   "outputs": [],
   "source": [
    "podstawienia = {\n",
    "    'ch': 'h',\n",
    "    'rz': 'z4',\n",
    "    'ż': 'z4',\n",
    "    'ó': 'u',\n",
    "    'ś': 's1',\n",
    "    'ć': 'c1',\n",
    "    'dź': 'dz1',\n",
    "    'ź': 'z3',\n",
    "    'ń': 'n3',\n",
    "    'sz': 's2',\n",
    "    'cz': 'c2',\n",
    "    'dż': 'd4'\n",
    "}\n",
    "\n",
    "def podstaw(iter):\n",
    "    for c in iter:\n",
    "        if c in podstawienia:\n",
    "            yield podstawienia[c]\n",
    "        else:\n",
    "            yield c"
   ]
  },
  {
   "attachments": {},
   "cell_type": "markdown",
   "metadata": {},
   "source": [
    "Spółgłoski dzielą się na górne i dolne."
   ]
  },
  {
   "cell_type": "code",
   "execution_count": 5,
   "metadata": {},
   "outputs": [],
   "source": [
    "gorne = {\n",
    "    'm',\n",
    "    's',\n",
    "    't',\n",
    "    'l',\n",
    "    'p',\n",
    "    'k',\n",
    "    'w',\n",
    "    'r',\n",
    "    'c',\n",
    "    'dz',\n",
    "    'x'\n",
    "}\n",
    "\n",
    "dolne = {\n",
    "    'n',\n",
    "    'z',\n",
    "    'd',\n",
    "    'ł',\n",
    "    'b',\n",
    "    'g',\n",
    "    'f',\n",
    "    'j',\n",
    "    'h',\n",
    "    'v',\n",
    "    'q'\n",
    "}"
   ]
  },
  {
   "attachments": {},
   "cell_type": "markdown",
   "metadata": {},
   "source": [
    "Po górnej spółgłosce może występować tylko górna samogłoska (oznaczona upper-case), a po dolnej - dolna.\n",
    "\n",
    "Jeśli po spółgłosce jest spółgłoska, to między nimi musi znaleźć się linia wracająca do środkowej linii (górna `\\` lub dolna `/`).\n",
    "\n",
    "Tymczasowo podobnie dla samogłosek, póki nie są obsługiwane poziome formy samogłosek."
   ]
  },
  {
   "cell_type": "code",
   "execution_count": 6,
   "metadata": {},
   "outputs": [
    {
     "name": "stdout",
     "output_type": "stream",
     "text": [
      "['p', 'I', 'Ę', 'k']\n"
     ]
    }
   ],
   "source": [
    "akc_pattern = re.compile(r'[1234]$')\n",
    "\n",
    "def bez_akcentu(c):\n",
    "    return re.sub(akc_pattern, '', c)\n",
    "\n",
    "def klasyfikuj(c):\n",
    "    cba = bez_akcentu(c)\n",
    "    sam = czy_samlgloska(c[0])\n",
    "    sp = czy_spolgloska(c[0])\n",
    "    inna = not sam and not sp\n",
    "    gorna = (sp and cba in gorne) or inna\n",
    "    return sam, sp, inna, gorna\n",
    "\n",
    "def ligatura(prev, c):\n",
    "    return (prev, c) in [('i','e'), ('i','a'), ('i','ę'), ('i','ą')]\n",
    "\n",
    "def polacz(iter):\n",
    "    prev = next(iter)\n",
    "    prev_sam, prev_sp, prev_inna, prev_gorna = klasyfikuj(prev)\n",
    "    next_up = prev_sam\n",
    "    for c in iter:\n",
    "        sam, sp, inna, gorna = klasyfikuj(c)\n",
    "        go_up = next_up\n",
    "        next_up = False\n",
    "        if sam and prev_sam:\n",
    "            if ligatura(prev, c):\n",
    "                next_up = go_up # ten sam case\n",
    "            else:\n",
    "                # idziemy w górę\n",
    "                prev = prev + '\\\\'\n",
    "                next_up = True\n",
    "        elif sam and prev_gorna:\n",
    "            next_up = True\n",
    "        elif sp and prev_sp:\n",
    "            if prev_gorna:\n",
    "                prev = prev + '\\\\'\n",
    "            else:\n",
    "                prev = prev + '/'\n",
    "        # emit before going to next\n",
    "        if go_up:\n",
    "            yield prev.upper()\n",
    "        else:\n",
    "            yield prev\n",
    "        prev = c\n",
    "        prev_sam, prev_sp, prev_inna, prev_gorna = sam, sp, inna, gorna\n",
    "    # emit last one\n",
    "    if next_up:\n",
    "        yield prev.upper()\n",
    "    else:\n",
    "        yield prev\n",
    "        \n",
    "print(list(polacz(['p','i', 'ę', 'k'].__iter__())))"
   ]
  },
  {
   "attachments": {},
   "cell_type": "markdown",
   "metadata": {},
   "source": [
    "Wygląd akcentu `ą` i `ę` zależy od tego czy jest to samogłoska górna czy dolne. Dlatego dopiero teraz możemy o nim zdecydować."
   ]
  },
  {
   "cell_type": "code",
   "execution_count": 7,
   "metadata": {},
   "outputs": [],
   "source": [
    "ogonki = {\n",
    "    'Ą': 'A5',\n",
    "    'Ę': 'E5',\n",
    "    'ą': 'a6',\n",
    "    'ę': 'e6'\n",
    "}\n",
    "\n",
    "def ogonkuj(iter):\n",
    "    for c in iter:\n",
    "        if c in ogonki:\n",
    "            yield ogonki[c]\n",
    "        else:\n",
    "            yield c"
   ]
  },
  {
   "cell_type": "code",
   "execution_count": 9,
   "metadata": {},
   "outputs": [
    {
     "data": {
      "text/plain": [
       "'I tAk I dzIsIEj/s2Y dzIEn3 zac2A5ł sIE5 pIE5k\\\\nie'"
      ]
     },
     "execution_count": 9,
     "metadata": {},
     "output_type": "execute_result"
    }
   ],
   "source": [
    "def konwertuj_it(it):\n",
    "    return ogonkuj(polacz(podstaw(it)))\n",
    "\n",
    "def konwertuj(s):\n",
    "    return konwertuj_it(dziel(cleanup(s)))\n",
    "\n",
    "''.join(konwertuj('i tak i dzisiejszy dzień zaczął się pięknie'))"
   ]
  },
  {
   "cell_type": "code",
   "execution_count": 10,
   "metadata": {},
   "outputs": [
    {
     "name": "stdout",
     "output_type": "stream",
     "text": [
      "sIEr\\pIEn3 nawIEdzEnie p\\tAkI mAnekIny t\\rAk\\tAt O mAnekInah Al\\bo w\\tUrA \n",
      "k\\sIE5ga rOdzAju t\\rAk\\tAt O mAnekInah cIA5g dal\\s2Y t\\rAk\\tAt O mAnekInah \n",
      "dokOn3/c2Enie nem\\rOd pAn pAn kArOl s\\k\\lEpY cYnamOnowE UlIcA k\\rOkOdylI \n",
      "kArAkOny wIhurA noc wIEl\\kIEgo sEzonu \n",
      " \n",
      " \n",
      " \n",
      " \n",
      " sIEr\\pIEn3 \n",
      " \n",
      " \n",
      " \n",
      " w lIp\\cU Oj/cIEc mUj wYjez4/d4ał do wUd I zos\\tAwIAł m\\nie z mAt\\kA5 I \n",
      "s\\tAr\\s2Ym b/rAtEm na pAs\\t\\wE5 białyh Od z4arU I Os2OłamIAja6cYh d/ni lEt\\nih. \n",
      "wEr\\tOwAlIs1\\mY, Oduz4eni s1\\wIAt\\łem, w tEj wIEl\\kIEj k\\sIE5dzE wAkAc\\ji, k\\tUrEj \n",
      "w\\s2Ys\\t\\kIE kAr\\tY pAłały Od b/lAs\\kU I mIAły na d/nie s\\łod/kI do Om\\d/lEnia \n",
      "mIA5z4/s2 z/łotYh g/rUs2Ek. AdelA w\\rAcAła w s1\\wIEt\\lIs\\tE pOrAn/kI, jak pOmOna z \n",
      "Og/nia d/nia rOz/z4ag/wI\\Onego, wYsYpUja6c z kOs2YkA bar\\w\\na6 UrOde6 s\\łon3/cA - \n",
      "l\\s1\\nia6cE, pEł/ne wOdy pOd p\\z4ej/z4ys\\tA5 s\\kUr\\kA5 c2ErEs1\\nie, tAjem\\nic2E, c2Ar\\ne \n",
      "wIs1\\nie, k\\tUrYh wOn3 p\\z4ek\\rAc2Ała tO, cO zis2\\c2Ało sIE5 w s\\mAkU; mOrElE, w \n",
      "k\\tUrYh mIA5z4/s2U z/łotYm był r\\dzEn3 d/ługih pOpOłud/ni; A Obok tEj c2Ys\\tEj \n",
      "pO\\Ez/ji OwOcUw wYładowYwAła nab/z4/mIAłe sIła6 I pOz4yw\\nos1\\cIA5 p\\łatY mIE5sA z \n",
      "k\\lAwIAtUrA5 z4eber cIElE5cYh, wOdorOs\\tY jaz4yn, niby zabitE g/łowOnogi I \n",
      "mEduzy - sUrOwY mAtErIAł Obiadu O s\\mAkU jes2\\c2E nie Ufor\\mOwAnym I \n",
      "jałowYm, wEgetAtYw\\ne I tEl\\lUrYc2\\ne In/g/rEdien/c\\je Obiadu O zapAhu dzIkIm \n",
      "I pOl\\nym. p\\z4ez cIEm\\ne mIEs2\\kAnie na pIEr\\w\\s2Ym pIE5t\\z4e kAmIEnicY w rYn/kU \n",
      "p\\z4ehodzIło cO dzIEn3 na w\\s\\k\\rOs1 cAłe wIEl\\kIE lAtO: cIs2A d/r\\gaja6cYh \n",
      "s\\łojuw pOwIEt\\z4/nyh, k\\wAd/rAtY b/lAs\\kU s1\\nia6cE z4ar\\lIwY s\\wUj sEn na \n",
      "pOd/łodzE; mElOdia kAtArYn/kI, dobytA z naj/g/łe6b/s2Ej z/łotEj z4yły d/nia; d/wA, \n",
      "t\\z4y tAk\\tY rEf/rEnu, g/rAnego g/dzIE na for\\tEpIAnie, w\\cIA5z4 na nowO, \n",
      "m\\d/lEja6cE w s\\łon3/cU na białyh t\\rOtU\\ArAh, zagubi\\One w Og/ni\\U d/nia \n",
      "g/łe6bokIEgo. pO s\\p\\z4a6tAni\\U AdelA zapUs2\\c2Ała cIEn3 na pOkOje, zasUwAja6c \n",
      "p\\łucIEn/ne s\\tOrY. w\\tEdy bar\\wY s\\hodzIły O Ok\\tAwE5 g/łe6biej, pOkUj napEł/niał \n",
      "sIE5 cIEniem, jak\\by pOg/rA5z4ony w s1\\wIAt\\ło g/łe6bi mOr\\s\\kIEj, jes2\\c2E mE5t\\niej \n",
      "Od/bitY w zielOnyh z/wIEr\\cIAd/łah, A cAły UpAł d/nia Od/dyhał na s\\tOrAh, \n",
      "lEk\\kO falUja6cYh Od mAz4en3 pOłud/ni\\OwEj godzIny. w sObot\\nie pOpOłud/nia \n",
      "wYhodzIłem z mAt\\kA5 na s\\pAcEr. z pUł/m\\rOkU sIEni w\\s\\tE5pOwAło sIE5 Od rAzu w \n",
      "s\\łonec2\\na6 kA5pIEl d/nia. p\\z4ehod/nie, b/rOdzA5c w z/łocIE, mIElI Oc2Y \n",
      "z/m\\rUz4one Od z4arU, jak\\by zalEpI\\One mI\\Odem, A pOd/cIA5g/nie6tA gur\\na wAr\\ga \n",
      "Od/s\\łaniała Im dzIA5s\\ła I ze6by. I w\\s2Ys\\cY b/rOdzA5cY w tYm d/ni\\U z/łocIs\\tYm \n",
      "mIElI Uw g/rYmAs s\\k\\wArU, jak g/dyby s\\łon3/cE nałoz4yło s\\wYm wYz/naw\\cOm jed/na6 I \n",
      "tE5 sAmA5 mAs\\kE5 - z/łotA5 mAs\\kE5 b/rAc\\t\\wA s\\łonec2\\nego; I w\\s2Ys\\cY, k\\tUz4y s2\\lI \n",
      "dzIs1 UlIcAmI, s\\pOtYkAlI sIE5, mIjalI, s\\tAr\\cY I m\\łodzI, dzIEcI I kObietY, \n",
      "pOz/d/rAwIAlI sIE5 w p\\z4ej/s1\\cI\\U tA5 mAs\\kA5, namAlOwAna6 g/rUba6, z/łotA5 far\\ba6 na \n",
      "t\\wAz4y, s2\\c2Ez4ylI do sIEbie tEn g/rYmAs bak\\hic2\\ny - bar\\baz4yn3/s\\kA5 mAs\\kE5 \n",
      "kUl\\tU pOgan3/s\\kIEgo. rYnek był pUs\\tY I z4uł/tY Od z4arU, wYmIEcI\\Ony z kUz4u \n",
      "gorA5cYmI wIAt\\rAmI, jak bib/lIj/na pUs\\tYnia. cIEr\\nis\\tE AkAc\\je, wYrOs\\łe z \n",
      "pUs\\t\\kI z4uł/tEgo p\\lAcU, kIpIAły nad nim jas\\nym lIs\\tOwIEm, bukIEtAmI \n",
      "s2\\lAhet\\nie Uc2\\łon/kOwAnyh filIg/rAnuw zielOnyh, jak d/z4ewA na s\\tArYh \n",
      "gobelInah. z/dawAło sIE5, z4e tE d/z4ewA Afek\\tUja6 wIher, w\\z/buz4aja6c \n",
      "tE\\At\\rAl\\nie s\\wE kOrOny, Az4eby w pAtEtYc2\\nyh p\\z4egie6cIAh UkAzac1 \n",
      "wYt\\wOr\\nos1\\c1 wAh/lAz4y lIs\\t\\nyh O s\\rEb/z4ys\\tYm pOd/b/z4us2U, jak fut\\rA \n",
      "s2\\lAhet\\nyh lIsIc. s\\tArE domY, pOlErOwAne wIAt\\rAmI wIElU d/ni, zabawIAły \n",
      "sIE5 rEf/lEk\\sAmI wIEl\\kIEj At\\mOs\\ferY, EhamI, w\\s\\pOm\\nieniamI bar\\w, \n",
      "rOz/p\\rOs2OnymI w g/łe6bi kOlOrOwEj pOgody. z/dawAło sIE5, z4e cAłe generAc\\je \n",
      "d/ni lEt\\nih (jak cIEr\\p\\lIwI s2\\tUkAtOz4y, Obijaja6cY s\\tArE fasAdy z p\\lEs1\\ni \n",
      "tYn/kU) Ob/t\\łukIwAły k\\łam\\lIwA5 g/lAzurE5, wYdobywAja6c z d/nia na dzIEn3 \n",
      "wYrAz3niej p\\rAw\\dzIwE Ob/lIc2E domUw, fiz/jonomIE5 lOsU I z4ycIA, k\\tUrE \n",
      "for\\mOwAło je Od wEw\\na6t\\z4. tErAz Ok\\na, Os1\\lEpI\\One b/lAs\\kIEm pUs\\tEgo p\\lAcU, \n",
      "s\\pAły; bal\\kOny wYz/nawAły niebu s\\wA5 pUs\\t\\kE5; Ot\\wAr\\tE sIEnie pAh/niały \n",
      "h/łodem I wInem. kUp\\kA Ob/dar\\tUsUw, OcAlAła w kA5cIE rYn/kU p\\z4ed p\\łomIEn/na6 \n",
      "mI\\Ot\\ła6 UpAłu, Ob/lEgała kAwAłek mUrU, dos1\\wIAd/c2Aja6c go w\\cIA5z4 na nowO \n",
      "z4utAmI guzikUw I mOnet, jak g/dyby z horOs\\kOpU tYh mEtAlOwYh k\\rA5z4/kUw \n",
      "Od/c2YtAc1 mOz4/na było p\\rAw\\dzIwA5 tAjem\\nicE5 mUrU, pOrYsOwAnego hierOg/lIfamI \n",
      "rYs I pE5k\\nie6c1. z/rEs2\\tA5 rYnek był pUs\\tY. Oc2EkIwAło sIE5, z4e p\\z4ed tE5 sIEn3 \n",
      "s\\k\\lEpI\\Ona6 z bec2\\kAmI wIniaz4a pOd/jedzIE w cIEni\\U h/wIEja6cYh sIE5 AkAcYj \n",
      "OsI\\Ołek sAmArYtAnina, p\\rOwAdzOny za Uz/de6, A d/wUh pAhoł/kUw z/w\\lEc2E \n",
      "t\\rOs\\k\\lIwIE horEgo mE5z4a z rOz/pAlOnego sI\\Od/ła, Az4eby go pO h/łod/nyh \n",
      "s\\hodah w\\nies1\\c1 Os\\t\\rOz4/nie na pAh/na6cE s2AbasEm pIE5t\\rO. tAk wE5d/rOwAlIs1\\mY \n",
      "z mAt\\kA5 p\\z4ez d/wIE s\\łonec2\\ne s\\t\\rOny rYn/kU, wOdzA5c nas2E załamAne cIEnie \n",
      "pO w\\s2Ys\\t\\kIh domAh, jak pO k\\lAwIs2Ah. k\\wAd/rAtY b/rUkU mIjały pOwOlI \n",
      "pOd nas2YmI mIE5k\\kImI I p\\łas\\kImI k\\rOkAmI - jed/ne b/lAdorUz4owE jak s\\kUrA \n",
      "lUdz\\kA, In/ne z/łotE I sIne, w\\s2Ys\\t\\kIE p\\łas\\kIE, cIEp\\łe, Ak\\sAmIt\\ne na \n",
      "s\\łon3/cU, jak jakIE t\\wAz4e s\\łonec2\\ne, zadep\\tAne s\\tOpAmI Az4 do niepOz/nakI, \n",
      "do b/łogiej nicOs1\\cI. Az4 w\\rEs2\\cIE na rOgu UlIcY s\\t\\rYj/s\\kIEj wEs2\\lIs1\\mY w \n",
      "cIEn3 Ap\\tEkI. wIEl\\kA bania z sOkIEm mAlInowYm w s2ErOkIm Ok\\nie Ap\\tEc2\\nym \n",
      "sYm\\bolIzowAła h/łud bal\\sAmUw, k\\tUrYm kAz4/de cIEr\\pIEnie mOg/ło sIE5 tAm \n",
      "UkO\\Ic1. I pO pArU jes2\\c2E domAh UlIcA nie mOg/ła juz4 Ut\\z4ymAc1 nadal \n",
      "decOrUm mIAs\\tA, jak h/łop, k\\tUrY w\\rAcAja6c do w\\sI rOdzImEj, rOz/dzIEwA sIE5 \n",
      "pO d/rOdzE z mIEj/s\\kIEj s\\wEj ElEgan/c\\ji, zamIEniaja6c sIE5 pOwOlI, w mIArE5 \n",
      "z/b/lIz4ania do w\\sI, w Ob/dar\\tUsA wIEj/s\\kIEgo. p\\z4ed/mIEj/s\\kIE dom\\kI tOne6ły \n",
      "w\\rAz z Ok\\namI, zapAd/nie6tE w buj/nym I zag/mAt\\wAnym k\\wIt\\nieni\\U mAłyh \n",
      "Og/rUd/kUw. zapOm\\niane p\\z4ez wIEl\\kI dzIEn3, p\\lEniły sIE5 buj/nie I cIho \n",
      "w\\s2El\\kIE zielA, k\\wIAtY I h/wAs\\tY, rAde z tEj pA\\Uzy, k\\tUrA5 p\\z4es1\\nic1 mOg/ły \n",
      "za mAr\\ginesEm c2AsU, na rUbiez4ah nies\\kOn3/c2Onego d/nia. Og/rOm\\ny \n",
      "s\\łonec2\\nik, wYdz1wIg/nie6tY na pOtE5z4/nej łodydzE I horY na ElEp\\han/tIAsIs, \n",
      "c2EkAł w z4uł/tEj z4ałobie Os\\tAt\\nih, s\\mUt\\nyh d/ni z4ywOtA, Uginaja6c sIE5 pOd \n",
      "p\\z4erOs\\tEm pOt\\wOr\\nej kOr\\pUlEn/c\\ji. AlE na\\Iw\\ne p\\z4ed/mIEj/s\\kIE dz\\wOn/kI I \n",
      "pEr\\kAlIkOwE, niewYb/rEd/ne k\\wIAtUs2\\kI s\\tAły bez/rAd/ne w s\\wYh \n",
      "nak\\rOh/mAlOnyh, rUz4owYh I białyh kOs2Ul\\kAh, bez z/rOzumIEnia d/lA \n",
      "wIEl\\kIEj t\\rAgedi\\I s\\łonec2\\nikA. \n",
      " \n",
      " \n",
      " \n",
      "s\\p\\lA5tAny ga6s2\\c2 t\\rAw, h/wAs\\tUw, ziel\\s\\kA I bodiakUw buzuje w Og/ni\\U \n",
      "pOpOłud/nia. huc2Y rOjowIs\\kIEm mUh pOpOłud/ni\\OwA d/z4em\\kA Og/rOdu. z/łotE \n",
      "cIEr\\nis\\kO k\\z4yc2Y w s\\łon3/cU, jak rUda s2ArAn3/c2A; w z4e6sIs\\tYm des2\\c2U \n",
      "Og/nia w\\z4es2\\c2A5 s1\\wIEr\\s2\\c2E; s\\t\\rA5kI nasI\\On Ek\\s\\p\\lOduja6 cIho, jak kOnikI \n",
      "pOl\\ne. A kU pAr\\kAnowI kOz4uh t\\rAw pOd/nosI sIE5 wYpUk\\łym gar\\bem-pAgurEm, \n",
      "jak g/dyby Og/rUd Ob/rUcIł sIE5 wE s1\\nie na d/rUga6 s\\t\\rOne6 I g/rUbe jego, \n",
      "h/łop\\s\\kIE barY Od/dyhaja6 cIs2A5 ziemI. na tYh barAh Og/rOdu nieh/lUj/na, \n"
     ]
    }
   ],
   "source": [
    "with open('8119-0.txt') as f:\n",
    "    c = 1\n",
    "    for line in f:\n",
    "        print(''.join(konwertuj(line)))\n",
    "        if c > 100:\n",
    "            break\n",
    "        c += 1"
   ]
  },
  {
   "cell_type": "code",
   "execution_count": 11,
   "metadata": {},
   "outputs": [],
   "source": [
    "import io\n",
    "\n",
    "def line_to_char(lines):\n",
    "    for line in lines:\n",
    "        for c in dziel(cleanup(line)):\n",
    "            yield c\n",
    "        yield '\\n'\n",
    "        \n",
    "\n",
    "with open('felieton.txt', 'r', encoding='utf-8') as f:\n",
    "    with open('felieton.out.txt', 'w', encoding='utf-8') as out:\n",
    "        for c in konwertuj_it(line_to_char(f)):\n",
    "            out.write(c)"
   ]
  },
  {
   "attachments": {},
   "cell_type": "markdown",
   "metadata": {},
   "source": [
    "## TODO\n",
    "- poprawić błędy ze sklepów cynamonowych\n",
    "- statystyki dla par samogłosek i ligatury dla najpopularniejszych\n",
    "\n",
    "### Pomysły\n",
    "- strona online do konwersji (2 kolumny)"
   ]
  }
 ],
 "metadata": {
  "kernelspec": {
   "display_name": "Python 3",
   "language": "python",
   "name": "python3"
  },
  "language_info": {
   "codemirror_mode": {
    "name": "ipython",
    "version": 3
   },
   "file_extension": ".py",
   "mimetype": "text/x-python",
   "name": "python",
   "nbconvert_exporter": "python",
   "pygments_lexer": "ipython3",
   "version": "3.9.14"
  },
  "orig_nbformat": 4,
  "vscode": {
   "interpreter": {
    "hash": "397704579725e15f5c7cb49fe5f0341eb7531c82d19f2c29d197e8b64ab5776b"
   }
  }
 },
 "nbformat": 4,
 "nbformat_minor": 2
}
