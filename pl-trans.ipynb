{
 "cells": [
  {
   "attachments": {},
   "cell_type": "markdown",
   "metadata": {},
   "source": [
    "# Translacja\n",
    "Chodzi o to żeby przekształcić tekst, aby dało się go wyrenderować przy pomocy mojego specjalnego fontu dla systemu stenografii.\n",
    "Założeniem systemu stenografii jest to, żeby nie trzeba było odrywać pióra przy pisaniu wyrazu.\n",
    "\n",
    "Idea systemu:\n",
    "1. Pisze się wokół linii środkowej ciągnąc kreskę do linii górnej lub dolnej i prawie zawsze (oprócz końca wyrazu) wracając do linii środkowej\n",
    "1. Kreski mają różne (proste) kształy (w sumie 11)\n",
    "1. Spółgłoski oznaczane są kreską od linii środkowej w górę lub w dół (różne spółgłoski dla lustrzanej kreski idącej w górę i w dół)\n",
    "1. Samogłoski oznaczane są kreską od linii górnej lub dolnej do środkowej (ta sama samogłoska może być napisana wracając z góry jak i z dołu po przez lustrzane odbicie)\n",
    "1. Jeśli występują po sobie dwie spółgłoski lub dwie samogłoski, to między nimi następuje powrót przy pomocy linii pionowej\n",
    "1. Na końcu spółgłoski może dodany być jeden z dwóch akcentów (kreska i kółko/pętelka)\n",
    "1. Na końcu samogłoski może dodany być akcent (mała skośna linia i powrót) który zmienia `e` na `ę`, `a` na `ą`\n",
    "1. Generalnie to można pisać też samogłoski poziomo, na linii środkowej, co jest przydatne gdy samogłoska następuje po samogłosce. Jest to obsłużone przez specjalne ligatury. Póki co tylko `ie` i `ia`.\n",
    "\n",
    "## Transkrypcja\n",
    "\n",
    "Pierwszą fazą jest podzielenie tekstu na głoski."
   ]
  },
  {
   "cell_type": "code",
   "execution_count": 1,
   "metadata": {},
   "outputs": [
    {
     "data": {
      "text/plain": [
       "'nie! dąsać się-proszę.!'"
      ]
     },
     "execution_count": 1,
     "metadata": {},
     "output_type": "execute_result"
    }
   ],
   "source": [
    "import re\n",
    "\n",
    "space_pattern = re.compile(r'\\s+')\n",
    "illegal_pattern = re.compile(r'[0-9]+')\n",
    "def cleanup(t):\n",
    "    return re.sub(space_pattern, ' ', re.sub(illegal_pattern, '', t.lower()))\n",
    "\n",
    "cleanup(\"Nie! 117  dąsać się-pROszę.!\")"
   ]
  },
  {
   "cell_type": "code",
   "execution_count": 2,
   "metadata": {},
   "outputs": [
    {
     "name": "stdout",
     "output_type": "stream",
     "text": [
      "['z', 'a', 'sz', 'cz', 'u', 't', 'e', ' ', 'rz', 'e', 'ź', 'ni', 'c', 'k', 'i', 'e', ' ', 'dż', 'dż', 'o', 'w', 'ni', 'c', 'e', ' ', 'dź', 'w', 'i', 'ę', 'cz', 'ą', ' ', 'dzi', 'si', 'a', 'j', ' ', 'dz', 'dz', ' ']\n"
     ]
    }
   ],
   "source": [
    "split_pattern = re.compile(r'(sz|cz|rz|dzi|dz|dź|dż|ch|si|ci|ni)')\n",
    "def dziel(t):\n",
    "    pos = 0\n",
    "    for m in re.finditer(split_pattern, t):\n",
    "        s = m.span()\n",
    "        if m.start() != pos:\n",
    "            for c in t[pos:m.start()]:\n",
    "                yield c\n",
    "        yield m[1]\n",
    "        pos = m.end()\n",
    "    if pos < len(t):\n",
    "        for c in t[pos:]:\n",
    "            yield c\n",
    "\n",
    "print(list(dziel('zaszczute rzeźnickie dżdżownice dźwięczą dzisiaj dzdz ')))"
   ]
  },
  {
   "attachments": {},
   "cell_type": "markdown",
   "metadata": {},
   "source": [
    "Z `ś` + `si`, `ć` + `ci` oraz `ń` + `ni` nie jest oczywiste której użyć. Jeśli po niej jest samogłoska, to chciłoby się uzyć `ś` a jeśli spółgłoska, to lepiej osobno `s` `i` (ze względu na komplikacje przy powtórzonych samogłoskach).\n",
    "Podobną regułę moza przyjąć dla `dź` + `dzi`."
   ]
  },
  {
   "cell_type": "code",
   "execution_count": 3,
   "metadata": {},
   "outputs": [],
   "source": [
    "def czy_samlgloska(s):\n",
    "    return s in ['a','i','e','o','y','u','ę','ą','ó']\n",
    "\n",
    "def czy_spolgloska(s):\n",
    "    return str.isalpha(s) and not czy_samlgloska(s)"
   ]
  },
  {
   "cell_type": "code",
   "execution_count": 4,
   "metadata": {},
   "outputs": [
    {
     "name": "stdout",
     "output_type": "stream",
     "text": [
      "['si', 'e', 'ć', ' ', 'i', ' ', 's', 'i', 't', 'o', ' ', 'dz', 'i', 'si', 'a', 'j', ' ', 'dzi', 'a', 'd', 'e', 'k', ' ', 'ci', 'e', 'p', 'ł', 'o', ' ', 'c', 'i', 's', 'k', 'a']\n"
     ]
    }
   ],
   "source": [
    "def popraw(iter):\n",
    "    prev = next(iter)\n",
    "    for g in iter:\n",
    "        if prev in ['si', 'ci', 'ni', 'dzi'] and czy_spolgloska(g):\n",
    "            yield prev[:-1]\n",
    "            yield 'i'\n",
    "        else:\n",
    "            yield prev\n",
    "        prev = g\n",
    "    yield prev\n",
    "\n",
    "print(list(popraw(dziel('sieć i sito dzisiaj dziadek ciepło ciska'))))"
   ]
  },
  {
   "cell_type": "markdown",
   "metadata": {},
   "source": [
    "\n",
    "Utożsamiane są niektóre głoski. Mamy podstawienia:\n",
    "- `ch` -> `h`\n",
    "- `rz` -> `ż`\n",
    "- `dzi` -> `dź`\n",
    "- `rz` -> `ż`\n",
    "- `ó` -> `u`\n",
    "- `si` -> `ś`\n",
    "- `ci` -> `ć`\n",
    "- `ni` -> `ń`\n",
    "\n",
    "Akcent pierwszy (pętelka) daje podstawienia (`1` oznacza górną formę akcentu, `3` oznacza dolną)\n",
    "- `ś` -> `s1`\n",
    "- `ć` -> `c1`\n",
    "- `dź` -> `d3`\n",
    "- `ź` -> `z3`\n",
    "- `ń` -> `n3`\n",
    "\n",
    "Akcent drugi (kreska w górę/dół oznaczana przez `2`/`4`) daje:\n",
    "- `sz` -> `s2`\n",
    "- `cz` -> `c2`\n",
    "- `dż` -> `d4`\n",
    "- `ż` -> `z4`"
   ]
  },
  {
   "cell_type": "code",
   "execution_count": 5,
   "metadata": {},
   "outputs": [],
   "source": [
    "podstawienia = {\n",
    "    'ch': 'h',\n",
    "    'rz': 'z4',\n",
    "    'dzi': 'd3',\n",
    "    'rz': 'z4',\n",
    "    'ó': 'u',\n",
    "    'si': 's1',\n",
    "    'ci': 'c1',\n",
    "    'ni': 'n3',\n",
    "    'ś': 's1',\n",
    "    'ć': 'c1',\n",
    "    'dź': 'd3',\n",
    "    'ź': 'z3',\n",
    "    'ń': 'n3',\n",
    "    'sz': 's2',\n",
    "    'cz': 'c2',\n",
    "    'dż': 'd4',\n",
    "    'ż': 'z4'\n",
    "}\n",
    "\n",
    "def podstaw(iter):\n",
    "    for c in iter:\n",
    "        if c in podstawienia:\n",
    "            yield podstawienia[c]\n",
    "        else:\n",
    "            yield c"
   ]
  },
  {
   "attachments": {},
   "cell_type": "markdown",
   "metadata": {},
   "source": [
    "Spółgłoski dzielą się na górne i dolne."
   ]
  },
  {
   "cell_type": "code",
   "execution_count": 6,
   "metadata": {},
   "outputs": [],
   "source": [
    "gorne = {\n",
    "    'm',\n",
    "    's',\n",
    "    't',\n",
    "    'l',\n",
    "    'p',\n",
    "    'k',\n",
    "    'w',\n",
    "    'r',\n",
    "    'c',\n",
    "    'dz',\n",
    "    'x'\n",
    "}\n",
    "\n",
    "dolne = {\n",
    "    'n',\n",
    "    'z',\n",
    "    'd',\n",
    "    'ł',\n",
    "    'b',\n",
    "    'g',\n",
    "    'f',\n",
    "    'j',\n",
    "    'h',\n",
    "    'v',\n",
    "    'q'\n",
    "}"
   ]
  },
  {
   "attachments": {},
   "cell_type": "markdown",
   "metadata": {},
   "source": [
    "Po górnej spółgłosce może występować tylko górna samogłoska (oznaczona upper-case), a po dolnej - dolna.\n",
    "\n",
    "Jeśli po spółgłosce jest spółgłoska, to między nimi musi znaleźć się linia wracająca do środkowej linii (górna `\\` lub dolna `/`).\n",
    "\n",
    "Tymczasowo podobnie dla samogłosek, póki nie są obsługiwane poziome formy samogłosek."
   ]
  },
  {
   "cell_type": "code",
   "execution_count": 7,
   "metadata": {},
   "outputs": [
    {
     "name": "stdout",
     "output_type": "stream",
     "text": [
      "['dz', 'I', 'k', 'I']\n"
     ]
    }
   ],
   "source": [
    "akc_pattern = re.compile(r'[1234]$')\n",
    "\n",
    "def bez_akcentu(c):\n",
    "    return re.sub(akc_pattern, '', c)\n",
    "\n",
    "def klasyfikuj(c):\n",
    "    cba = bez_akcentu(c)\n",
    "    sam = czy_samlgloska(c[0])\n",
    "    sp = czy_spolgloska(c[0])\n",
    "    inna = not sam and not sp\n",
    "    gorna = (sp and cba in gorne) or inna\n",
    "    return sam, sp, inna, gorna\n",
    "\n",
    "def ligatura(prev, c):\n",
    "    return (prev, c) in [('i','e'), ('i','a')]\n",
    "\n",
    "def polacz(iter):\n",
    "    prev = next(iter)\n",
    "    prev_sam, prev_sp, prev_inna, prev_gorna = klasyfikuj(prev)\n",
    "    next_up = prev_sam\n",
    "    for c in iter:\n",
    "        sam, sp, inna, gorna = klasyfikuj(c)\n",
    "        go_up = next_up\n",
    "        next_up = False\n",
    "        if sam and prev_sam:\n",
    "            if ligatura(prev, c):\n",
    "                next_up = go_up # ten sam case\n",
    "            else:\n",
    "                # idziemy w górę\n",
    "                prev = prev + '\\\\'\n",
    "                next_up = True\n",
    "        elif sam and prev_gorna:\n",
    "            next_up = True\n",
    "        elif sp and prev_sp:\n",
    "            if prev_gorna:\n",
    "                prev = prev + '\\\\'\n",
    "            else:\n",
    "                prev = prev + '/'\n",
    "        # emit before going to next\n",
    "        if go_up:\n",
    "            yield prev.upper()\n",
    "        else:\n",
    "            yield prev\n",
    "        prev = c\n",
    "        prev_sam, prev_sp, prev_inna, prev_gorna = sam, sp, inna, gorna\n",
    "    # emit last one\n",
    "    if next_up:\n",
    "        yield prev.upper()\n",
    "    else:\n",
    "        yield prev\n",
    "        \n",
    "print(list(polacz(['dz','i', 'k', 'i'].__iter__())))"
   ]
  },
  {
   "attachments": {},
   "cell_type": "markdown",
   "metadata": {},
   "source": [
    "Wygląd akcentu `ą` i `ę` zależy od tego czy jest to samogłoska górna czy dolne. Dlatego dopiero teraz możemy o nim zdecydować."
   ]
  },
  {
   "cell_type": "code",
   "execution_count": 8,
   "metadata": {},
   "outputs": [],
   "source": [
    "ogonki = {\n",
    "    'Ą': 'A5',\n",
    "    'Ę': 'E5',\n",
    "    'ą': 'a6',\n",
    "    'ę': 'e6'\n",
    "}\n",
    "\n",
    "def ogonkuj(iter):\n",
    "    for c in iter:\n",
    "        if c in ogonki:\n",
    "            yield ogonki[c]\n",
    "        else:\n",
    "            yield c"
   ]
  },
  {
   "cell_type": "code",
   "execution_count": 9,
   "metadata": {},
   "outputs": [
    {
     "data": {
      "text/plain": [
       "'I tAk I dzIs1Ej/s2Y d3en3 zac2A5ł s1E5 bar\\\\dzO n3etYpOwO'"
      ]
     },
     "execution_count": 9,
     "metadata": {},
     "output_type": "execute_result"
    }
   ],
   "source": [
    "def konwertuj(s):\n",
    "    return ogonkuj(polacz(podstaw(popraw(dziel(cleanup(s))))))\n",
    "\n",
    "''.join(konwertuj('i tak i dzisiejszy dzień zaczął się bardzo nietypowo'))"
   ]
  },
  {
   "cell_type": "code",
   "execution_count": 10,
   "metadata": {},
   "outputs": [
    {
     "name": "stdout",
     "output_type": "stream",
     "text": [
      "s1Er\\pIEn3 nawIEdzEn3e p\\tAkI mAnekIny t\\rAk\\tAt O mAnekInah Al\\bo w\\tUrA \n",
      " \n",
      "k\\s1E5ga rOdzAju t\\rAk\\tAt O mAnekInah c1A5g dal\\s2Y t\\rAk\\tAt O mAnekInah \n",
      " \n",
      "dokOn3/c2En3e nem\\rOd pAn pAn kArOl s\\k\\lEpY cYnamOnowE UlIcA k\\rOkOdylI \n",
      " \n",
      "kArAkOny wIhurA noc wIEl\\kIEgo sEzonu \n",
      " \n",
      " \n",
      " \n",
      " \n",
      " \n",
      " \n",
      " \n",
      " \n",
      " \n",
      " s1Er\\pIEn3 \n",
      " \n",
      " \n",
      " \n",
      " \n",
      " \n",
      " \n",
      " \n",
      " w lIp\\cU Oj/c1Ec mUj wYjez4/d4ał do wUd I zos\\tAwIAł m\\n3e z mAt\\kA5 I \n",
      " \n",
      "s\\tAr\\s2Ym b/rAtEm na pAs\\t\\wE5 białyh Od z4arU I Os2OłamIAja6cYh d/n3 lEt\\nih. \n",
      " \n",
      "wEr\\tOwAlIs1\\mY, Oduz4en3 s1\\wIAt\\łem, w tEj wIEl\\kIEj k\\s1E5dzE wAkAc\\ji, k\\tUrEj \n",
      " \n",
      "w\\s2Ys\\t\\kIE kAr\\tY pAłały Od b/lAs\\kU I mIAły na d/n3e s\\łod/kI do Om\\d/lEn3a \n",
      " \n",
      "mI\\A5z4/s2 z/łotYh g/rUs2Ek. AdelA w\\rAcAła w s1\\wIEt\\lIs\\tE pOrAn/kI, jak pOmOna z \n",
      " \n",
      "Og/n3a d/n3a rOz/z4ag/wI\\Onego, wYsYpUja6c z kOs2YkA bar\\w\\na6 UrOde6 s\\łon3/cA - \n",
      " \n",
      "l\\s1\\n3a6cE, pEł/ne wOdy pOd p\\z4ej/z4ys\\tA5 s\\kUr\\kA5 c2ErEs1\\n3e, tAjem\\nic2E, c2Ar\\ne \n",
      " \n",
      "wIs1\\n3e, k\\tUrYh wOn3 p\\z4ek\\rAc2Ała tO, cO zis2\\c2Ało s1E5 w s\\mAkU; mOrElE, w \n",
      " \n",
      "k\\tUrYh mI\\A5z4/s2U z/łotYm był r\\dzEn3 d/ługih pOpOłud/n3; A Obok tEj c2Ys\\tEj \n",
      " \n",
      "pO\\Ez/ji OwOcUw wYładowYwAła nab/z4/mIAłe sIła6 I pOz4yw\\nos1\\c1A5 p\\łatY mI\\E5sA z \n",
      " \n",
      "k\\lAwIAtUrA5 z4eber c1ElE5cYh, wOdorOs\\tY jaz4yn, niby zabitE g/łowOnogi I \n",
      " \n",
      "mEduzy - sUrOwY mAtErIAł Obiadu O s\\mAkU jes2\\c2E n3e Ufor\\mOwAnym I \n",
      " \n",
      "jałowYm, wEgetAtYw\\ne I tEl\\lUrYc2\\ne In/g/rEdien/c\\je Obiadu O zapAhu dzIkIm \n",
      " \n",
      "I pOl\\nym. p\\z4ez c1Em\\ne mIEs2\\kAn3e na pIEr\\w\\s2Ym pI\\E5t\\z4e kAmIEnicY w rYn/kU \n",
      " \n",
      "p\\z4ehodzIło cO d3en3 na w\\s\\k\\rOs1 cAłe wIEl\\kIE lAtO: cIs2A d/r\\gaja6cYh \n",
      " \n",
      "s\\łojuw pOwIEt\\z4/nyh, k\\wAd/rAtY b/lAs\\kU s1\\n3a6cE z4ar\\lIwY s\\wUj sEn na \n",
      " \n",
      "pOd/łodzE; mElOdia kAtArYn/kI, dobytA z naj/g/łe6b/s2Ej z/łotEj z4yły d/n3a; d/wA, \n",
      " \n",
      "t\\z4y tAk\\tY rEf/rEnu, g/rAnego g/d3e na for\\tEpIAn3e, w\\c1A5z4 na nowO, \n",
      " \n",
      "m\\d/lEja6cE w s\\łon3/cU na białyh t\\rOtU\\ArAh, zagubi\\One w Og/n3u d/n3a \n",
      " \n",
      "g/łe6bokIEgo. pO s\\p\\z4a6tAn3u AdelA zapUs2\\c2Ała c1En3 na pOkOje, zasUwAja6c \n",
      " \n",
      "p\\łuc1En/ne s\\tOrY. w\\tEdy bar\\wY s\\hodzIły O Ok\\tAwE5 g/łe6biej, pOkUj napEł/n3ał \n",
      " \n",
      "s1E5 c1En3em, jak\\by pOg/rA5z4ony w s1\\wIAt\\ło g/łe6bi mOr\\s\\kIEj, jes2\\c2E mE5t\\n3ej \n",
      " \n",
      "Od/bitY w zielOnyh z/wIEr\\c1Ad/łah, A cAły UpAł d/n3a Od/dyhał na s\\tOrAh, \n",
      " \n",
      "lEk\\kO falUja6cYh Od mAz4en3 pOłud/n3owEj godzIny. w sObot\\n3e pOpOłud/n3a \n",
      " \n",
      "wYhodzIłem z mAt\\kA5 na s\\pAcEr. z pUł/m\\rOkU s1En3 w\\s\\tE5pOwAło s1E5 Od rAzu w \n",
      " \n",
      "s\\łonec2\\na6 kA5pIEl d/n3a. p\\z4ehod/n3e, b/rOdzA5c w z/łoc1E, mIElI Oc2Y \n",
      " \n",
      "z/m\\rUz4one Od z4arU, jak\\by zalEpI\\One mI\\Odem, A pOd/c1A5g/n3e6tA gur\\na wAr\\ga \n",
      " \n",
      "Od/s\\łan3ała Im d3a6s\\ła I ze6by. I w\\s2Ys\\cY b/rOdzA5cY w tYm d/n3u z/łocIs\\tYm \n",
      " \n",
      "mIElI Uw g/rYmAs s\\k\\wArU, jak g/dyby s\\łon3/cE nałoz4yło s\\wYm wYz/naw\\cOm jed/na6 I \n",
      " \n",
      "tE5 sAmA5 mAs\\kE5 - z/łotA5 mAs\\kE5 b/rAc\\t\\wA s\\łonec2\\nego; I w\\s2Ys\\cY, k\\tUz4y s2\\lI \n",
      " \n",
      "dzIs1 UlIcAmI, s\\pOtYkAlI s1E5, mIjalI, s\\tAr\\cY I m\\łod3, d3ec1 I kObietY, \n",
      " \n",
      "pOz/d/rAwIAlI s1E5 w p\\z4ej/s1\\c1U tA5 mAs\\kA5, namAlOwAna6 g/rUba6, z/łotA5 far\\ba6 na \n",
      " \n",
      "t\\wAz4y, s2\\c2Ez4ylI do s1Ebie tEn g/rYmAs bak\\hic2\\ny - bar\\baz4yn3/s\\kA5 mAs\\kE5 \n",
      " \n",
      "kUl\\tU pOgan3/s\\kIEgo. rYnek był pUs\\tY I z4uł/tY Od z4arU, wYmIEc1Ony z kUz4u \n",
      " \n",
      "gorA5cYmI wIAt\\rAmI, jak bib/lIj/na pUs\\tYn3a. c1Er\\nis\\tE AkAc\\je, wYrOs\\łe z \n",
      " \n",
      "pUs\\t\\kI z4uł/tEgo p\\lAcU, kIpIAły nad nim jas\\nym lIs\\tOwIEm, bukIEtAmI \n",
      " \n",
      "s2\\lAhet\\n3e Uc2\\łon/kOwAnyh filIg/rAnuw zielOnyh, jak d/z4ewA na s\\tArYh \n",
      " \n",
      "gobelInah. z/dawAło s1E5, z4e tE d/z4ewA Afek\\tUja6 wIher, w\\z/buz4aja6c \n",
      " \n",
      "tE\\At\\rAl\\n3e s\\wE kOrOny, Az4eby w pAtEtYc2\\nyh p\\z4egi\\E5c1Ah UkAzac1 \n"
     ]
    }
   ],
   "source": [
    "with open('8119-0.txt') as f:\n",
    "    c = 1\n",
    "    for line in f:\n",
    "        print(''.join(konwertuj(line)))\n",
    "        if c > 100:\n",
    "            break\n",
    "        c += 1"
   ]
  }
 ],
 "metadata": {
  "kernelspec": {
   "display_name": "Python 3",
   "language": "python",
   "name": "python3"
  },
  "language_info": {
   "codemirror_mode": {
    "name": "ipython",
    "version": 3
   },
   "file_extension": ".py",
   "mimetype": "text/x-python",
   "name": "python",
   "nbconvert_exporter": "python",
   "pygments_lexer": "ipython3",
   "version": "3.9.14"
  },
  "orig_nbformat": 4,
  "vscode": {
   "interpreter": {
    "hash": "397704579725e15f5c7cb49fe5f0341eb7531c82d19f2c29d197e8b64ab5776b"
   }
  }
 },
 "nbformat": 4,
 "nbformat_minor": 2
}
