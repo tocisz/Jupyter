{
 "cells": [
  {
   "attachments": {},
   "cell_type": "markdown",
   "metadata": {},
   "source": [
    "# Translacja\n",
    "Chodzi o to żeby przekształcić tekst, aby dało się go wyrenderować przy pomocy mojego specjalnego fontu dla systemu stenografii.\n",
    "Założeniem systemu stenografii jest to, żeby nie trzeba było odrywać pióra przy pisaniu wyrazu.\n",
    "\n",
    "Idea systemu:\n",
    "1. Pisze się wokół linii środkowej ciągnąc kreskę do linii górnej lub dolnej i prawie zawsze (oprócz końca wyrazu) wracając do linii środkowej\n",
    "1. Kreski mają różne (proste) kształy (w sumie 11)\n",
    "1. Spółgłoski oznaczane są kreską od linii środkowej w górę lub w dół (różne spółgłoski dla lustrzanej kreski idącej w górę i w dół)\n",
    "1. Samogłoski oznaczane są kreską od linii górnej lub dolnej do środkowej (ta sama samogłoska może być napisana wracając z góry jak i z dołu po przez lustrzane odbicie)\n",
    "1. Jeśli występują po sobie dwie spółgłoski lub dwie samogłoski, to między nimi następuje powrót przy pomocy linii pionowej\n",
    "1. Na końcu spółgłoski może dodany być jeden z dwóch akcentów (kreska i kółko/pętelka)\n",
    "1. TODO: Na końcu samogłoski może dodany być akcent (mała skośna linia i powrót) który zmienia `e` na `ę`, `a` na `ą`, `i` na `ie`\n",
    "1. TODO: Można pisać też samogłoski poziomo, na linii środkowej, co jest przydatne gdy samogłoska następuje po samogłosce\n",
    "\n",
    "## Transkrypcja\n",
    "\n",
    "Pierwszą fazą jest podzielenie tekstu na głoski."
   ]
  },
  {
   "cell_type": "code",
   "execution_count": 1,
   "metadata": {},
   "outputs": [
    {
     "data": {
      "text/plain": [
       "'nie dąsać się proszę '"
      ]
     },
     "execution_count": 1,
     "metadata": {},
     "output_type": "execute_result"
    }
   ],
   "source": [
    "import re\n",
    "\n",
    "clean_pattern = re.compile(r'(\\W|\\d|_)+')\n",
    "def cleanup(t):\n",
    "    return re.sub(clean_pattern, ' ', t.lower())+' '\n",
    "\n",
    "cleanup(\"Nie! 11  dąsać się-pROszę\")"
   ]
  },
  {
   "cell_type": "code",
   "execution_count": 2,
   "metadata": {},
   "outputs": [
    {
     "name": "stdout",
     "output_type": "stream",
     "text": [
      "['z', 'a', 'sz', 'cz', 'u', 't', 'e', ' ', 'rz', 'e', 'ź', 'ni', 'c', 'k', 'i', 'e', ' ', 'dż', 'dż', 'o', 'w', 'ni', 'c', 'e', ' ', 'dź', 'w', 'i', 'ę', 'cz', 'ą', ' ', 'dzi', 'si', 'a', 'j', ' ', 'dz', 'dz', ' ']\n"
     ]
    }
   ],
   "source": [
    "split_pattern = re.compile(r'(sz|cz|rz|dzi|dz|dź|dż|ch|si|ci|ni)')\n",
    "def dziel(t):\n",
    "    pos = 0\n",
    "    for m in re.finditer(split_pattern, t):\n",
    "        s = m.span()\n",
    "        if m.start() != pos:\n",
    "            for c in t[pos:m.start()]:\n",
    "                yield c\n",
    "        yield m[1]\n",
    "        pos = m.end()\n",
    "    if pos < len(t):\n",
    "        for c in t[pos:]:\n",
    "            yield c\n",
    "\n",
    "print(list(dziel('zaszczute rzeźnickie dżdżownice dźwięczą dzisiaj dzdz ')))"
   ]
  },
  {
   "attachments": {},
   "cell_type": "markdown",
   "metadata": {},
   "source": [
    "Z `ś` + `si`, `ć` + `ci` oraz `ń` + `ni` nie jest oczywiste której użyć. Jeśli po niej jest samogłoska, to chciłoby się uzyć `ś` a jeśli spółgłoska, to lepiej osobno `s` `i` (ze względu na komplikacje przy powtórzonych samogłoskach).\n",
    "Podobną regułę moza przyjąć dla `dź` + `dzi`."
   ]
  },
  {
   "cell_type": "code",
   "execution_count": 3,
   "metadata": {},
   "outputs": [],
   "source": [
    "def czy_samlgloska(s):\n",
    "    return s in ['a','i','e','o','y','u','ę','ą','ó']\n",
    "\n",
    "def czy_spolgloska(s):\n",
    "    return str.isalpha(s) and not czy_samlgloska(s)"
   ]
  },
  {
   "cell_type": "code",
   "execution_count": 4,
   "metadata": {},
   "outputs": [
    {
     "name": "stdout",
     "output_type": "stream",
     "text": [
      "['si', 'e', 'ć', ' ', 'i', ' ', 's', 'i', 't', 'o', ' ', 'dz', 'i', 'si', 'a', 'j', ' ', 'dzi', 'a', 'd', 'e', 'k', ' ', 'ci', 'e', 'p', 'ł', 'o', ' ', 'c', 'i', 's', 'k', 'a']\n"
     ]
    }
   ],
   "source": [
    "def popraw(iter):\n",
    "    prev = next(iter)\n",
    "    for g in iter:\n",
    "        if prev in ['si', 'ci', 'ni', 'dzi'] and czy_spolgloska(g):\n",
    "            yield prev[:-1]\n",
    "            yield 'i'\n",
    "        else:\n",
    "            yield prev\n",
    "        prev = g\n",
    "    yield prev\n",
    "\n",
    "print(list(popraw(dziel('sieć i sito dzisiaj dziadek ciepło ciska'))))"
   ]
  },
  {
   "cell_type": "markdown",
   "metadata": {},
   "source": [
    "\n",
    "Utożsamiane są niektóre głoski. Mamy podstawienia:\n",
    "- `ch` -> `h`\n",
    "- `rz` -> `ż`\n",
    "- `dzi` -> `dź`\n",
    "- `rz` -> `ż`\n",
    "- `ó` -> `u`\n",
    "- `si` -> `ś`\n",
    "- `ci` -> `ć`\n",
    "- `ni` -> `ń`\n",
    "\n",
    "Akcent pierwszy (pętelka) daje podstawienia (`1` oznacza górną formę akcentu, `3` oznacza dolną)\n",
    "- `ś` -> `s1`\n",
    "- `ć` -> `c1`\n",
    "- `dź` -> `d3`\n",
    "- `ź` -> `z3`\n",
    "- `ń` -> `n3`\n",
    "\n",
    "Akcent drugi (kreska w górę/dół oznaczana przez `2`/`4`) daje:\n",
    "- `sz` -> `s2`\n",
    "- `cz` -> `c2`\n",
    "- `dż` -> `d4`\n",
    "- `ż` -> `z4`"
   ]
  },
  {
   "cell_type": "code",
   "execution_count": 5,
   "metadata": {},
   "outputs": [],
   "source": [
    "podstawienia = {\n",
    "    'ch': 'h',\n",
    "    'rz': 'z4',\n",
    "    'dzi': 'd3',\n",
    "    'rz': 'z4',\n",
    "    'ó': 'u',\n",
    "    'si': 's1',\n",
    "    'ci': 'c1',\n",
    "    'ni': 'n3',\n",
    "    'ś': 's1',\n",
    "    'ć': 'c1',\n",
    "    'dź': 'd3',\n",
    "    'ź': 'z3',\n",
    "    'ń': 'n3',\n",
    "    'sz': 's2',\n",
    "    'cz': 'c2',\n",
    "    'dż': 'd4',\n",
    "    'ż': 'z4'\n",
    "}\n",
    "\n",
    "def podstaw(iter):\n",
    "    for c in iter:\n",
    "        if c in podstawienia:\n",
    "            yield podstawienia[c]\n",
    "        else:\n",
    "            yield c"
   ]
  },
  {
   "attachments": {},
   "cell_type": "markdown",
   "metadata": {},
   "source": [
    "Spółgłoski dzielą się na górne i dolne."
   ]
  },
  {
   "cell_type": "code",
   "execution_count": 6,
   "metadata": {},
   "outputs": [],
   "source": [
    "gorne = {\n",
    "    'm',\n",
    "    's',\n",
    "    't',\n",
    "    'l',\n",
    "    'p',\n",
    "    'k',\n",
    "    'w',\n",
    "    'r',\n",
    "    'c',\n",
    "    'dz',\n",
    "    'x'\n",
    "}\n",
    "\n",
    "dolne = {\n",
    "    'n',\n",
    "    'z',\n",
    "    'd',\n",
    "    'ł',\n",
    "    'b',\n",
    "    'g',\n",
    "    'f',\n",
    "    'j',\n",
    "    'h',\n",
    "    'v',\n",
    "    'q'\n",
    "}"
   ]
  },
  {
   "attachments": {},
   "cell_type": "markdown",
   "metadata": {},
   "source": [
    "Po górnej spółgłosce może występować tylko górna samogłoska (oznaczona upper-case), a po dolnej - dolna.\n",
    "\n",
    "Jeśli po spółgłosce jest spółgłoska, to między nimi musi znaleźć się linia wracająca do środkowej linii (górna `\\` lub dolna `/`).\n",
    "\n",
    "Tymczasowo podobnie dla samogłosek, póki nie są obsługiwane poziome formy samogłosek."
   ]
  },
  {
   "cell_type": "code",
   "execution_count": 33,
   "metadata": {},
   "outputs": [
    {
     "name": "stdout",
     "output_type": "stream",
     "text": [
      "['s', '\\\\', 't', 'A', 'd', '/', 'n', 'o', '\\\\', 'E']\n"
     ]
    }
   ],
   "source": [
    "akc_pattern = re.compile(r'[1234]$')\n",
    "\n",
    "def bez_akcentu(c):\n",
    "    return re.sub(akc_pattern, '', c)\n",
    "\n",
    "def polacz(iter):\n",
    "    prev = next(iter)\n",
    "    prev_sam = czy_samlgloska(prev)\n",
    "    prev_gorna = not prev_sam and bez_akcentu(prev) in gorne\n",
    "    next_up = True\n",
    "    for c in iter:\n",
    "        sam = czy_samlgloska(c)\n",
    "        gorna = not sam and bez_akcentu(prev) in gorne\n",
    "        go_up = next_up\n",
    "        next_up = False\n",
    "        if sam and prev_sam:\n",
    "            # strange case, go up to solve it\n",
    "            prev = prev + '\\\\'\n",
    "            next_up = True\n",
    "        elif sam and not prev_sam and prev != ' ':\n",
    "            if prev_gorna:\n",
    "                next_up = True\n",
    "        elif not sam and not prev_sam and prev != ' ':\n",
    "            if prev_gorna:\n",
    "                prev = prev + '\\\\'\n",
    "            else:\n",
    "                prev = prev + '/'\n",
    "        # emit before going to next\n",
    "        if prev_sam and go_up:\n",
    "            yield prev.upper()\n",
    "        else:\n",
    "            yield prev\n",
    "        prev = c\n",
    "        prev_sam = sam\n",
    "        prev_gorna = gorna\n",
    "    # emit last one\n",
    "    if prev_sam and next_up:\n",
    "        yield prev.upper()\n",
    "    else:\n",
    "        yield prev\n",
    "        \n",
    "print(list(polacz(['s','t','a','d','n','o','e'].__iter__())))"
   ]
  },
  {
   "attachments": {},
   "cell_type": "markdown",
   "metadata": {},
   "source": [
    "Wygląd akcentu `ą` i `ę` zależy od tego czy jest to samogłoska górna czy dolne. Dlatego dopiero teraz możemy o nim zdecydować.\n",
    "\n",
    "TODO"
   ]
  },
  {
   "cell_type": "code",
   "execution_count": 39,
   "metadata": {},
   "outputs": [
    {
     "name": "stdout",
     "output_type": "stream",
     "text": [
      "I tak/ i dzis1ej/s2y d3en3/ zac2ął/ s1ę bar/dzO n3etypowo \n"
     ]
    }
   ],
   "source": [
    "def konwertuj(s):\n",
    "    return polacz(podstaw(popraw(dziel(cleanup(s)))))\n",
    "\n",
    "print(''.join(konwertuj('i tak i dzisiejszy dzień zaczął się bardzo nietypowo')))"
   ]
  }
 ],
 "metadata": {
  "kernelspec": {
   "display_name": "Python 3",
   "language": "python",
   "name": "python3"
  },
  "language_info": {
   "codemirror_mode": {
    "name": "ipython",
    "version": 3
   },
   "file_extension": ".py",
   "mimetype": "text/x-python",
   "name": "python",
   "nbconvert_exporter": "python",
   "pygments_lexer": "ipython3",
   "version": "3.9.14"
  },
  "orig_nbformat": 4,
  "vscode": {
   "interpreter": {
    "hash": "397704579725e15f5c7cb49fe5f0341eb7531c82d19f2c29d197e8b64ab5776b"
   }
  }
 },
 "nbformat": 4,
 "nbformat_minor": 2
}
