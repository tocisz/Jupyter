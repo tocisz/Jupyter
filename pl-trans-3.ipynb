{
 "cells": [
  {
   "attachments": {},
   "cell_type": "markdown",
   "metadata": {},
   "source": [
    "# Translacja\n",
    "Chodzi o to żeby przekształcić tekst, aby dało się go wyrenderować przy pomocy mojego specjalnego fontu dla systemu stenografii.\n",
    "Założeniem systemu stenografii jest to, żeby nie trzeba było odrywać pióra przy pisaniu wyrazu.\n",
    "\n",
    "Idea systemu:\n",
    "1. Pisze się wokół linii środkowej ciągnąc kreskę do linii górnej lub dolnej i prawie zawsze (oprócz końca wyrazu) wracając do linii środkowej\n",
    "1. Kreski mają różne (proste) kształy (w sumie 11)\n",
    "1. Spółgłoski oznaczane są kreską od linii środkowej w górę lub w dół (różne spółgłoski dla lustrzanej kreski idącej w górę i w dół)\n",
    "1. Samogłoski oznaczane są kreską od linii górnej lub dolnej do środkowej (ta sama samogłoska może być napisana wracając z góry jak i z dołu po przez lustrzane odbicie)\n",
    "1. Jeśli występują po sobie dwie spółgłoski lub dwie samogłoski, to między nimi następuje powrót przy pomocy linii pionowej\n",
    "1. Na końcu spółgłoski może dodany być jeden z dwóch akcentów (kreska i kółko/pętelka)\n",
    "1. Na końcu samogłoski może dodany być akcent (mała skośna linia i powrót) który zmienia `e` na `ę`, `a` na `ą`\n",
    "1. Generalnie to można pisać też samogłoski poziomo, na linii środkowej, co jest przydatne gdy samogłoska następuje po samogłosce. Jest to obsłużone przez specjalne ligatury. Póki co tylko `ie` i `ia`.\n",
    "\n",
    "## Transkrypcja\n",
    "\n",
    "Pierwszą fazą jest podzielenie tekstu na głoski."
   ]
  },
  {
   "cell_type": "code",
   "execution_count": 1,
   "metadata": {},
   "outputs": [
    {
     "data": {
      "text/plain": [
       "'nie! 117 dąsać się-proszę.!'"
      ]
     },
     "execution_count": 1,
     "metadata": {},
     "output_type": "execute_result"
    }
   ],
   "source": [
    "import re\n",
    "\n",
    "space_pattern = re.compile(r'\\s+')\n",
    "def cleanup(t):\n",
    "    return re.sub(space_pattern, ' ', t.lower())\n",
    "\n",
    "cleanup(\"Nie! 117  dąsać się-pROszę.!\")"
   ]
  },
  {
   "cell_type": "code",
   "execution_count": 2,
   "metadata": {},
   "outputs": [
    {
     "name": "stdout",
     "output_type": "stream",
     "text": [
      "['z', 'a', 'sz', 'cz', 'u', 't', 'e', ' ', 'rz', 'e', 'ź', 'n', 'i', 'c', 'k', 'i', 'e', ' ', 'dż', 'dż', 'o', 'w', 'n', 'i', 'c', 'e', ' ', 'dź', 'w', 'i', 'ę', 'cz', 'ą', ' ', 'dz', 'i', 's', 'i', 'a', 'j', ' ', 'dz', 'dz', ' ']\n"
     ]
    }
   ],
   "source": [
    "split_pattern = re.compile(r'(sz|cz|rz|dz|dź|dż|ch)')\n",
    "def dziel(t):\n",
    "    pos = 0\n",
    "    for m in re.finditer(split_pattern, t):\n",
    "        s = m.span()\n",
    "        if m.start() != pos:\n",
    "            for c in t[pos:m.start()]:\n",
    "                yield c\n",
    "        yield m[1]\n",
    "        pos = m.end()\n",
    "    if pos < len(t):\n",
    "        for c in t[pos:]:\n",
    "            yield c\n",
    "\n",
    "print(list(dziel('zaszczute rzeźnickie dżdżownice dźwięczą dzisiaj dzdz ')))"
   ]
  },
  {
   "cell_type": "code",
   "execution_count": 3,
   "metadata": {},
   "outputs": [],
   "source": [
    "def czy_samlgloska(s):\n",
    "    return s in ['a','i','e','o','y','u','ę','ą','ó']\n",
    "\n",
    "def czy_spolgloska(s):\n",
    "    return str.isalpha(s) and not czy_samlgloska(s)"
   ]
  },
  {
   "attachments": {},
   "cell_type": "markdown",
   "metadata": {},
   "source": [
    "Spółgłoski dzielą się na górne i dolne."
   ]
  },
  {
   "cell_type": "code",
   "execution_count": 4,
   "metadata": {},
   "outputs": [],
   "source": [
    "gorne = {\n",
    "    'm',\n",
    "    's','ś','sz',\n",
    "    't',\n",
    "    'l',\n",
    "    'p',\n",
    "    'k',\n",
    "    'w',\n",
    "    'r',\n",
    "    'c','ć','cz',\n",
    "    'dz','dż','dź',\n",
    "    'x'\n",
    "}\n",
    "\n",
    "dolne = {\n",
    "    'n','ń'\n",
    "    'z','ż','ź'\n",
    "    'd',\n",
    "    'ł',\n",
    "    'b',\n",
    "    'g',\n",
    "    'f',\n",
    "    'j',\n",
    "    'h','ch',\n",
    "    'v',\n",
    "    'q'\n",
    "}"
   ]
  },
  {
   "attachments": {},
   "cell_type": "markdown",
   "metadata": {},
   "source": [
    "Po górnej spółgłosce może występować tylko górna samogłoska (oznaczona upper-case), a po dolnej - dolna.\n",
    "\n",
    "Jeśli po spółgłosce jest spółgłoska, to między nimi musi znaleźć się linia wracająca do środkowej linii (górna `↓` lub dolna `↑`).\n",
    "\n",
    "Tymczasowo podobnie dla samogłosek, póki nie są obsługiwane poziome formy samogłosek.\n",
    "\n",
    "Kolejnym poziomem uproszczenia byłoby zakodowanie tego w foncie. W tym celu można użyć mechanizmu kontekstowych podstawień.\n",
    "Np. jeśli górna litera jest po górnej, to należy użyć formy alternatywnej - z łącznikiem."
   ]
  },
  {
   "cell_type": "code",
   "execution_count": 5,
   "metadata": {},
   "outputs": [
    {
     "name": "stdout",
     "output_type": "stream",
     "text": [
      "['p', 'I', 'Ę', 'k']\n"
     ]
    }
   ],
   "source": [
    "class Klasa:\n",
    "    def __init__(self, c):\n",
    "        self.samogloska = czy_samlgloska(c[0])\n",
    "        self.spolgloska = czy_spolgloska(c[0])\n",
    "        self.inna = not self.samogloska and not self.spolgloska\n",
    "        self.gorna = (self.spolgloska and c in gorne) or self.inna\n",
    "\n",
    "def ligatura(prev, c):\n",
    "    return (prev, c) in [('i','e'), ('i','a'), ('i','ę'), ('i','ą')]\n",
    "\n",
    "def polacz(iter):\n",
    "    prev = ' '\n",
    "    pk = Klasa(prev)\n",
    "    for c in iter:\n",
    "        k = Klasa(c)\n",
    "        if k.samogloska:\n",
    "            if pk.samogloska and not ligatura(prev, c):\n",
    "                # po samogłosce bez ligatury zawsze forma górna z łącznikiem\n",
    "                yield '↓'\n",
    "                yield c.upper()\n",
    "                k.gorna = True\n",
    "            else:\n",
    "                # to czy forma górna czy dolna zależy od tego jak skończyła się poprzednia litera\n",
    "                k.gorna = pk.gorna\n",
    "                yield c.upper() if k.gorna else c\n",
    "        elif k.spolgloska and pk.spolgloska:\n",
    "            # łącznik przed spółgłoską jeśli poprzedzała ją spółgłoska\n",
    "            yield '↓' if pk.gorna else '↑'\n",
    "            yield c\n",
    "        else:\n",
    "            # bez zmian\n",
    "            yield c\n",
    "        prev = c\n",
    "        pk = k\n",
    "\n",
    "print(list(polacz(['p','i', 'ę', 'k'].__iter__())))"
   ]
  },
  {
   "cell_type": "code",
   "execution_count": 6,
   "metadata": {},
   "outputs": [
    {
     "data": {
      "text/plain": [
       "'I tAk I dzIsIEj↑szY dzIEń zaczĄł sIĘ pIĘk↓nie'"
      ]
     },
     "execution_count": 6,
     "metadata": {},
     "output_type": "execute_result"
    }
   ],
   "source": [
    "def konwertuj(s):\n",
    "    return polacz(dziel(cleanup(s)))\n",
    "\n",
    "''.join(konwertuj('i tak i dzisiejszy dzień zaczął się pięknie'))"
   ]
  },
  {
   "cell_type": "code",
   "execution_count": 7,
   "metadata": {},
   "outputs": [],
   "source": [
    "import io\n",
    "\n",
    "def line_to_char(lines):\n",
    "    for line in lines:\n",
    "        for c in dziel(cleanup(line)):\n",
    "            yield c\n",
    "        yield '\\n'\n",
    "        \n",
    "\n",
    "with open('felieton.txt', 'r', encoding='utf-8') as f:\n",
    "    with open('felieton.out.txt', 'w', encoding='utf-8') as out:\n",
    "        for c in polacz(line_to_char(f)):\n",
    "            out.write(c)"
   ]
  },
  {
   "attachments": {},
   "cell_type": "markdown",
   "metadata": {},
   "source": [
    "## TODO\n",
    "- statystyki dla par samogłosek i ligatury dla najpopularniejszych\n",
    "\n",
    "### Pomysły\n",
    "- font z kontekstowymi wariantami, żeby nie trzeba było używać skryptu pythona do wstawiania łączników i zmiany case samogłosek"
   ]
  }
 ],
 "metadata": {
  "kernelspec": {
   "display_name": "Python 3",
   "language": "python",
   "name": "python3"
  },
  "language_info": {
   "codemirror_mode": {
    "name": "ipython",
    "version": 3
   },
   "file_extension": ".py",
   "mimetype": "text/x-python",
   "name": "python",
   "nbconvert_exporter": "python",
   "pygments_lexer": "ipython3",
   "version": "3.9.14"
  },
  "orig_nbformat": 4,
  "vscode": {
   "interpreter": {
    "hash": "397704579725e15f5c7cb49fe5f0341eb7531c82d19f2c29d197e8b64ab5776b"
   }
  }
 },
 "nbformat": 4,
 "nbformat_minor": 2
}
