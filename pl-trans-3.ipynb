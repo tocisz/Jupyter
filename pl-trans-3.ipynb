{
 "cells": [
  {
   "attachments": {},
   "cell_type": "markdown",
   "metadata": {},
   "source": [
    "# Translacja\n",
    "Chodzi o to żeby przekształcić tekst, aby dało się go wyrenderować przy pomocy mojego specjalnego fontu dla systemu stenografii.\n",
    "Założeniem systemu stenografii jest to, żeby nie trzeba było odrywać pióra przy pisaniu wyrazu.\n",
    "\n",
    "Idea systemu:\n",
    "1. Pisze się wokół linii środkowej ciągnąc kreskę do linii górnej lub dolnej i prawie zawsze (oprócz końca wyrazu) wracając do linii środkowej\n",
    "1. Kreski mają różne (proste) kształy (w sumie 11)\n",
    "1. Spółgłoski oznaczane są kreską od linii środkowej w górę lub w dół (różne spółgłoski dla lustrzanej kreski idącej w górę i w dół)\n",
    "1. Samogłoski oznaczane są kreską od linii górnej lub dolnej do środkowej (ta sama samogłoska może być napisana wracając z góry jak i z dołu po przez lustrzane odbicie)\n",
    "1. Jeśli występują po sobie dwie spółgłoski lub dwie samogłoski, to między nimi następuje powrót przy pomocy linii pionowej\n",
    "1. Na końcu spółgłoski może dodany być jeden z dwóch akcentów (kreska i kółko/pętelka)\n",
    "1. Na końcu samogłoski może dodany być akcent (mała skośna linia i powrót) który zmienia `e` na `ę`, `a` na `ą`\n",
    "1. Generalnie to można pisać też samogłoski poziomo, na linii środkowej, co jest przydatne gdy samogłoska następuje po samogłosce. Jest to obsłużone przez specjalne ligatury. Póki co tylko `ie` i `ia`.\n",
    "\n",
    "## Transkrypcja\n",
    "\n",
    "Pierwszą fazą jest podzielenie tekstu na głoski."
   ]
  },
  {
   "cell_type": "code",
   "execution_count": 1,
   "metadata": {},
   "outputs": [
    {
     "data": {
      "text/plain": [
       "'nie! 117 dąsać się-proszę.!'"
      ]
     },
     "execution_count": 1,
     "metadata": {},
     "output_type": "execute_result"
    }
   ],
   "source": [
    "import re\n",
    "\n",
    "space_pattern = re.compile(r'\\s+')\n",
    "def cleanup(t):\n",
    "    return re.sub(space_pattern, ' ', t.lower())\n",
    "\n",
    "cleanup(\"Nie! 117  dąsać się-pROszę.!\")"
   ]
  },
  {
   "cell_type": "code",
   "execution_count": 2,
   "metadata": {},
   "outputs": [
    {
     "name": "stdout",
     "output_type": "stream",
     "text": [
      "['z', 'a', 'sz', 'cz', 'u', 't', 'e', ' ', 'rz', 'e', 'ź', 'n', 'i', 'c', 'k', 'i', 'e', ' ', 'dż', 'dż', 'o', 'w', 'n', 'i', 'c', 'e', ' ', 'dź', 'w', 'i', 'ę', 'cz', 'ą', ' ', 'dz', 'i', 's', 'i', 'a', 'j', ' ', 'dz', 'dz', ' ']\n"
     ]
    }
   ],
   "source": [
    "split_pattern = re.compile(r'(sz|cz|rz|dz|dź|dż|ch)')\n",
    "def dziel(t):\n",
    "    pos = 0\n",
    "    for m in re.finditer(split_pattern, t):\n",
    "        s = m.span()\n",
    "        if m.start() != pos:\n",
    "            for c in t[pos:m.start()]:\n",
    "                yield c\n",
    "        yield m[1]\n",
    "        pos = m.end()\n",
    "    if pos < len(t):\n",
    "        for c in t[pos:]:\n",
    "            yield c\n",
    "\n",
    "print(list(dziel('zaszczute rzeźnickie dżdżownice dźwięczą dzisiaj dzdz ')))"
   ]
  },
  {
   "cell_type": "code",
   "execution_count": 3,
   "metadata": {},
   "outputs": [],
   "source": [
    "def czy_samlgloska(s):\n",
    "    return s in ['a','i','e','o','y','u','ę','ą','ó']\n",
    "\n",
    "def czy_spolgloska(s):\n",
    "    return str.isalpha(s) and not czy_samlgloska(s)"
   ]
  },
  {
   "attachments": {},
   "cell_type": "markdown",
   "metadata": {},
   "source": [
    "Spółgłoski dzielą się na górne i dolne."
   ]
  },
  {
   "cell_type": "code",
   "execution_count": 4,
   "metadata": {},
   "outputs": [],
   "source": [
    "gorne = {\n",
    "    'm',\n",
    "    's','ś','sz',\n",
    "    't',\n",
    "    'l',\n",
    "    'p',\n",
    "    'k',\n",
    "    'w',\n",
    "    'r',\n",
    "    'c','ć','cz',\n",
    "    'dz','dż','dź',\n",
    "    'x'\n",
    "}\n",
    "\n",
    "dolne = {\n",
    "    'n','ń'\n",
    "    'z','ż','ź'\n",
    "    'd',\n",
    "    'ł',\n",
    "    'b',\n",
    "    'g',\n",
    "    'f',\n",
    "    'j',\n",
    "    'h','ch',\n",
    "    'v',\n",
    "    'q'\n",
    "}"
   ]
  },
  {
   "attachments": {},
   "cell_type": "markdown",
   "metadata": {},
   "source": [
    "Po górnej spółgłosce może występować tylko górna samogłoska (oznaczona upper-case), a po dolnej - dolna.\n",
    "\n",
    "Jeśli po spółgłosce jest spółgłoska, to między nimi musi znaleźć się linia wracająca do środkowej linii (górna `\\` lub dolna `/`).\n",
    "\n",
    "Tymczasowo podobnie dla samogłosek, póki nie są obsługiwane poziome formy samogłosek."
   ]
  },
  {
   "cell_type": "code",
   "execution_count": 5,
   "metadata": {},
   "outputs": [
    {
     "name": "stdout",
     "output_type": "stream",
     "text": [
      "['p', 'I', 'Ę', 'k']\n"
     ]
    }
   ],
   "source": [
    "def klasyfikuj(c):\n",
    "    sam = czy_samlgloska(c[0])\n",
    "    sp = czy_spolgloska(c[0])\n",
    "    inna = not sam and not sp\n",
    "    gorna = (sp and c in gorne) or inna\n",
    "    return sam, sp, inna, gorna\n",
    "\n",
    "def ligatura(prev, c):\n",
    "    return (prev, c) in [('i','e'), ('i','a'), ('i','ę'), ('i','ą')]\n",
    "\n",
    "def polacz(iter):\n",
    "    prev = next(iter)\n",
    "    prev_sam, prev_sp, prev_inna, prev_gorna = klasyfikuj(prev)\n",
    "    next_up = prev_sam\n",
    "    for c in iter:\n",
    "        sam, sp, inna, gorna = klasyfikuj(c)\n",
    "        go_up = next_up\n",
    "        next_up = False\n",
    "        if sam and prev_sam:\n",
    "            if ligatura(prev, c):\n",
    "                next_up = go_up # ten sam case\n",
    "            else:\n",
    "                # idziemy w górę\n",
    "                prev = prev + '↓'\n",
    "                next_up = True\n",
    "        elif sam and prev_gorna:\n",
    "            next_up = True\n",
    "        elif sp and prev_sp:\n",
    "            if prev_gorna:\n",
    "                prev = prev + '↓'\n",
    "            else:\n",
    "                prev = prev + '↑'\n",
    "        # emit before going to next\n",
    "        if go_up:\n",
    "            yield prev.upper()\n",
    "        else:\n",
    "            yield prev\n",
    "        prev = c\n",
    "        prev_sam, prev_sp, prev_inna, prev_gorna = sam, sp, inna, gorna\n",
    "    # emit last one\n",
    "    if next_up:\n",
    "        yield prev.upper()\n",
    "    else:\n",
    "        yield prev\n",
    "        \n",
    "print(list(polacz(['p','i', 'ę', 'k'].__iter__())))"
   ]
  },
  {
   "cell_type": "code",
   "execution_count": 6,
   "metadata": {},
   "outputs": [
    {
     "data": {
      "text/plain": [
       "'I tAk I dzIsIEj↑szY dzIEń zaczĄł sIĘ pIĘk↓nie'"
      ]
     },
     "execution_count": 6,
     "metadata": {},
     "output_type": "execute_result"
    }
   ],
   "source": [
    "def konwertuj(s):\n",
    "    return polacz(dziel(cleanup(s)))\n",
    "\n",
    "''.join(konwertuj('i tak i dzisiejszy dzień zaczął się pięknie'))"
   ]
  },
  {
   "cell_type": "code",
   "execution_count": 7,
   "metadata": {},
   "outputs": [
    {
     "name": "stdout",
     "output_type": "stream",
     "text": [
      "sIEr↓pIEń nawIEdzEnie p↓tAkI mAnekIny t↓rAk↓tAt O mAnekInach Al↓bo w↓tÓrA \n",
      "k↓sIĘga rOdzAju t↓rAk↓tAt O mAnekInach cIĄg dal↓szY t↓rAk↓tAt O mAnekInach \n",
      "dokOń↑czEnie nem↓rOd pAn pAn kArOl s↓k↓lEpY cYnamOnowE UlIcA k↓rOkOdylI \n",
      "kArAkOny wIchurA noc wIEl↓kIEgo sEzonu \n",
      " \n",
      " \n",
      " \n",
      " \n",
      " sIEr↓pIEń \n",
      " \n",
      " 1 \n",
      " \n",
      " w lIp↓cU Oj↑cIEc mÓj wYjeż↑dżAł do wÓd I zos↓tAwIAł m↓nie z mAt↓kĄ I \n",
      "s↓tAr↓szYm b↑rAtEm na pAs↓t↓wĘ białych Od żarU I OszOłamIAjącYch d↑ni lEt↓nich. \n",
      "wEr↓tOwAlIś↓mY, Odurzeni ś↓wIAt↓łem, w tEj wIEl↓kIEj k↓sIĘdzE wAkAc↓ji, k↓tÓrEj \n",
      "w↓szYs↓t↓kIE kAr↓tY pAłały Od b↑lAs↓kU I mIAły na d↑nie s↓łod↑kI do Om↓d↑lEnia \n",
      "mIĄż↑sz z↑łotYch g↑rUszEk. AdelA w↓rAcAła w ś↓wIEt↓lIs↓tE pOrAn↑kI, jak pOmOna z \n",
      "Og↑nia d↑nia rOz↑żag↑wI↓Onego, wYsYpUjąc z kOszYkA bar↓w↓ną UrOdę s↓łoń↑cA - \n",
      "l↓ś↓niącE, pEł↑ne wOdy pOd p↓rzej↑rzys↓tĄ s↓kÓr↓kĄ czErEś↓nie, tAjem↓niczE, czAr↓ne \n",
      "wIś↓nie, k↓tÓrYch wOń p↓rzek↓rAczAła tO, cO zisz↓czAło sIĘ w s↓mAkU; mOrElE, w \n",
      "k↓tÓrYch mIĄż↑szU z↑łotYm był r↓dzEń d↑ługich pOpOłud↑ni; A Obok tEj czYs↓tEj \n",
      "pO↓Ez↑ji OwOcÓw wYładowYwAła nab↑rz↑mIAłe sIłą I pOżyw↓noś↓cIĄ p↓łatY mIĘsA z \n",
      "k↓lAwIAtUrĄ żeber cIElĘcYch, wOdorOs↓tY jarzyn, niby zabitE g↑łowOnogi I \n",
      "mEduzy - sUrOwY mAtErIAł Obiadu O s↓mAkU jesz↓czE nie Ufor↓mOwAnym I \n",
      "jałowYm, wEgetAtYw↓ne I tEl↓lUrYcz↓ne In↑g↑rEdien↑c↓je Obiadu O zapAchu dzIkIm \n",
      "I pOl↓nym. p↓rzez cIEm↓ne mIEsz↓kAnie na pIEr↓w↓szYm pIĘt↓rze kAmIEnicY w rYn↑kU \n",
      "p↓rzechodzIło cO dzIEń na w↓s↓k↓rOś cAłe wIEl↓kIE lAtO: cIszA d↑r↓gającYch \n",
      "s↓łojów pOwIEt↓rz↑nych, k↓wAd↑rAtY b↑lAs↓kU ś↓niącE żar↓lIwY s↓wÓj sEn na \n",
      "pOd↑łodzE; mElOdia kAtArYn↑kI, dobytA z naj↑g↑łęb↑szEj z↑łotEj żyły d↑nia; d↑wA, \n",
      "t↓rzy tAk↓tY rEf↑rEnu, g↑rAnego g↑dzIE na for↓tEpIAnie, w↓cIĄż na nowO, \n",
      "m↓d↑lEjącE w s↓łoń↑cU na białych t↓rOtU↓ArAch, zagubi↓One w Og↑ni↓U d↑nia \n",
      "g↑łębokIEgo. pO s↓p↓rzątAni↓U AdelA zapUsz↓czAła cIEń na pOkOje, zasUwAjąc \n",
      "p↓łócIEn↑ne s↓tOrY. w↓tEdy bar↓wY s↓chodzIły O Ok↓tAwĘ g↑łębiej, pOkÓj napEł↑niał \n",
      "sIĘ cIEniem, jak↓by pOg↑rĄżony w ś↓wIAt↓ło g↑łębi mOr↓s↓kIEj, jesz↓czE mĘt↓niej \n",
      "Od↑bitY w zielOnych z↑wIEr↓cIAd↑łach, A cAły UpAł d↑nia Od↑dychał na s↓tOrAch, \n",
      "lEk↓kO falUjącYch Od mArzeń pOłud↑ni↓OwEj godzIny. w sObot↓nie pOpOłud↑nia \n",
      "wYchodzIłem z mAt↓kĄ na s↓pAcEr. z pÓł↑m↓rOkU sIEni w↓s↓tĘpOwAło sIĘ Od rAzu w \n",
      "s↓łonecz↓ną kĄpIEl d↑nia. p↓rzechod↑nie, b↑rOdzĄc w z↑łocIE, mIElI OczY \n",
      "z↑m↓rUżone Od żarU, jak↓by zalEpI↓One mI↓Odem, A pOd↑cIĄg↑niętA gór↓na wAr↓ga \n",
      "Od↑s↓łaniała Im dzIĄs↓ła I zęby. I w↓szYs↓cY b↑rOdzĄcY w tYm d↑ni↓U z↑łocIs↓tYm \n",
      "mIElI Ów g↑rYmAs s↓k↓wArU, jak g↑dyby s↓łoń↑cE nałożyło s↓wYm wYz↑naw↓cOm jed↑ną I \n",
      "tĘ sAmĄ mAs↓kĘ - z↑łotĄ mAs↓kĘ b↑rAc↓t↓wA s↓łonecz↓nego; I w↓szYs↓cY, k↓tÓrzy sz↓lI \n",
      "dzIś UlIcAmI, s↓pOtYkAlI sIĘ, mIjalI, s↓tAr↓cY I m↓łodzI, dzIEcI I kObietY, \n",
      "pOz↑d↑rAwIAlI sIĘ w p↓rzej↑ś↓cI↓U tĄ mAs↓kĄ, namAlOwAną g↑rUbą, z↑łotĄ far↓bą na \n",
      "t↓wArzy, sz↓czErzylI do sIEbie tEn g↑rYmAs bak↓chicz↓ny - bar↓barzyń↑s↓kĄ mAs↓kĘ \n",
      "kUl↓tU pOgań↑s↓kIEgo. rYnek był pUs↓tY I żół↑tY Od żarU, wYmIEcI↓Ony z kUrzu \n",
      "gorĄcYmI wIAt↓rAmI, jak bib↑lIj↑na pUs↓tYnia. cIEr↓nis↓tE AkAc↓je, wYrOs↓łe z \n",
      "pUs↓t↓kI żół↑tEgo p↓lAcU, kIpIAły nad nim jas↓nym lIs↓tOwIEm, bukIEtAmI \n",
      "sz↓lAchet↓nie Ucz↓łon↑kOwAnych filIg↑rAnów zielOnych, jak d↑rzewA na s↓tArYch \n",
      "gobelInach. z↑dawAło sIĘ, że tE d↑rzewA Afek↓tUją wIcher, w↓z↑burzając \n",
      "tE↓At↓rAl↓nie s↓wE kOrOny, Ażeby w pAtEtYcz↓nych p↓rzegięcIAch UkAzać \n",
      "wYt↓wOr↓noś↓ć wAch↑lArzy lIs↓t↓nych O s↓rEb↑rzys↓tYm pOd↑b↑rzuszU, jak fut↓rA \n",
      "sz↓lAchet↓nych lIsIc. s↓tArE domY, pOlErOwAne wIAt↓rAmI wIElU d↑ni, zabawIAły \n",
      "sIĘ rEf↑lEk↓sAmI wIEl↓kIEj At↓mOs↓ferY, EchamI, w↓s↓pOm↓nieniamI bar↓w, \n",
      "rOz↑p↓rOszOnymI w g↑łębi kOlOrOwEj pOgody. z↑dawAło sIĘ, że cAłe generAc↓je \n",
      "d↑ni lEt↓nich (jak cIEr↓p↓lIwI sz↓tUkAtOrzy, ObijającY s↓tArE fasAdy z p↓lEś↓ni \n",
      "tYn↑kU) Ob↑t↓łukIwAły k↓łam↓lIwĄ g↑lAzurĘ, wYdobywAjąc z d↑nia na dzIEń \n",
      "wYrAźniej p↓rAw↓dzIwE Ob↑lIczE domÓw, fiz↑jonomIĘ lOsU I życIA, k↓tÓrE \n",
      "for↓mOwAło je Od wEw↓nąt↓rz. tErAz Ok↓na, Oś↓lEpI↓One b↑lAs↓kIEm pUs↓tEgo p↓lAcU, \n",
      "s↓pAły; bal↓kOny wYz↑nawAły niebu s↓wĄ pUs↓t↓kĘ; Ot↓wAr↓tE sIEnie pAch↑niały \n",
      "ch↑łodem I wInem. kUp↓kA Ob↑dar↓tUsÓw, OcAlAła w kĄcIE rYn↑kU p↓rzed p↓łomIEn↑ną \n",
      "mI↓Ot↓łą UpAłu, Ob↑lEgała kAwAłek mUrU, doś↓wIAd↑czAjąc go w↓cIĄż na nowO \n",
      "rzutAmI guzikÓw I mOnet, jak g↑dyby z horOs↓kOpU tYch mEtAlOwYch k↓rĄż↑kÓw \n",
      "Od↑czYtAć mOż↑na było p↓rAw↓dzIwĄ tAjem↓nicĘ mUrU, pOrYsOwAnego hierOg↑lIfamI \n",
      "rYs I pĘk↓nięć. z↑rEsz↓tĄ rYnek był pUs↓tY. OczEkIwAło sIĘ, że p↓rzed tĘ sIEń \n",
      "s↓k↓lEpI↓Oną z becz↓kAmI wIniarza pOd↑jedzIE w cIEni↓U ch↑wIEjącYch sIĘ AkAcYj \n",
      "OsI↓Ołek sAmArYtAnina, p↓rOwAdzOny za Uz↑dę, A d↑wÓch pAchoł↑kÓw z↑w↓lEczE \n",
      "t↓rOs↓k↓lIwIE chorEgo mĘża z rOz↑pAlOnego sI↓Od↑ła, Ażeby go pO ch↑łod↑nych \n",
      "s↓chodach w↓nieś↓ć Os↓t↓rOż↑nie na pAch↑nącE szAbasEm pIĘt↓rO. tAk wĘd↑rOwAlIś↓mY \n",
      "z mAt↓kĄ p↓rzez d↑wIE s↓łonecz↓ne s↓t↓rOny rYn↑kU, wOdzĄc naszE załamAne cIEnie \n",
      "pO w↓szYs↓t↓kIch domAch, jak pO k↓lAwIszAch. k↓wAd↑rAtY b↑rUkU mIjały pOwOlI \n",
      "pOd naszYmI mIĘk↓kImI I p↓łas↓kImI k↓rOkAmI - jed↑ne b↑lAdorÓżowE jak s↓kÓrA \n",
      "lUdz↓kA, In↑ne z↑łotE I sIne, w↓szYs↓t↓kIE p↓łas↓kIE, cIEp↓łe, Ak↓sAmIt↓ne na \n",
      "s↓łoń↑cU, jak jakIE t↓wArze s↓łonecz↓ne, zadep↓tAne s↓tOpAmI Aż do niepOz↑nakI, \n",
      "do b↑łogiej nicOś↓cI. Aż w↓rEsz↓cIE na rOgu UlIcY s↓t↓rYj↑s↓kIEj wEsz↓lIś↓mY w \n",
      "cIEń Ap↓tEkI. wIEl↓kA bania z sOkIEm mAlInowYm w szErOkIm Ok↓nie Ap↓tEcz↓nym \n",
      "sYm↓bolIzowAła ch↑łód bal↓sAmÓw, k↓tÓrYm kAż↑de cIEr↓pIEnie mOg↑ło sIĘ tAm \n",
      "UkO↓Ić. I pO pArU jesz↓czE domAch UlIcA nie mOg↑ła już Ut↓rzymAć nadal \n",
      "decOrUm mIAs↓tA, jak ch↑łop, k↓tÓrY w↓rAcAjąc do w↓sI rOdzImEj, rOz↑dzIEwA sIĘ \n",
      "pO d↑rOdzE z mIEj↑s↓kIEj s↓wEj ElEgan↑c↓ji, zamIEniając sIĘ pOwOlI, w mIArĘ \n",
      "z↑b↑lIżania do w↓sI, w Ob↑dar↓tUsA wIEj↑s↓kIEgo. p↓rzed↑mIEj↑s↓kIE dom↓kI tOnęły \n",
      "w↓rAz z Ok↓namI, zapAd↑niętE w buj↑nym I zag↑mAt↓wAnym k↓wIt↓nieni↓U mAłych \n",
      "Og↑rÓd↑kÓw. zapOm↓niane p↓rzez wIEl↓kI dzIEń, p↓lEniły sIĘ buj↑nie I cIcho \n",
      "w↓szEl↓kIE zielA, k↓wIAtY I ch↑wAs↓tY, rAde z tEj pA↓Uzy, k↓tÓrĄ p↓rześ↓nić mOg↑ły \n",
      "za mAr↓ginesEm czAsU, na rUbieżach nies↓kOń↑czOnego d↑nia. Og↑rOm↓ny \n",
      "s↓łonecz↓nik, wYdźwIg↑niętY na pOtĘż↑nej łodydzE I chorY na ElEp↓han↑tIAsIs, \n",
      "czEkAł w żół↑tEj żałobie Os↓tAt↓nich, s↓mUt↓nych d↑ni żywOtA, Uginając sIĘ pOd \n",
      "p↓rzerOs↓tEm pOt↓wOr↓nej kOr↓pUlEn↑c↓ji. AlE na↓Iw↓ne p↓rzed↑mIEj↑s↓kIE dz↓wOn↑kI I \n",
      "pEr↓kAlIkOwE, niewYb↑rEd↑ne k↓wIAtUsz↓kI s↓tAły bez↑rAd↑ne w s↓wYch \n",
      "nak↓rOch↑mAlOnych, rÓżowYch I białych kOszUl↓kAch, bez z↑rOzumIEnia d↑lA \n",
      "wIEl↓kIEj t↓rAgedi↓I s↓łonecz↓nikA. \n",
      " \n",
      " 2 \n",
      " \n",
      "s↓p↓lĄtAny gąsz↓cz t↓rAw, ch↑wAs↓tÓw, ziel↓s↓kA I bodiakÓw buzuje w Og↑ni↓U \n",
      "pOpOłud↑nia. huczY rOjowIs↓kIEm mUch pOpOłud↑ni↓OwA d↑rzem↓kA Og↑rOdu. z↑łotE \n",
      "cIEr↓nis↓kO k↓rzyczY w s↓łoń↑cU, jak rUda szArAń↑czA; w rzęsIs↓tYm desz↓czU \n",
      "Og↑nia w↓rzesz↓czĄ ś↓wIEr↓sz↓czE; s↓t↓rĄkI nasI↓On Ek↓s↓p↓lOdują cIcho, jak kOnikI \n",
      "pOl↓ne. A kU pAr↓kAnowI kOżuch t↓rAw pOd↑nosI sIĘ wYpUk↓łym gar↓bem-pAgórEm, \n",
      "jak g↑dyby Og↑rÓd Ob↑rÓcIł sIĘ wE ś↓nie na d↑rUgą s↓t↓rOnę I g↑rUbe jego, \n",
      "ch↑łop↓s↓kIE barY Od↑dychają cIszĄ ziemI. na tYch barAch Og↑rOdu niech↑lUj↑na, \n"
     ]
    }
   ],
   "source": [
    "with open('8119-0.txt') as f:\n",
    "    c = 1\n",
    "    for line in f:\n",
    "        print(''.join(konwertuj(line)))\n",
    "        if c > 100:\n",
    "            break\n",
    "        c += 1"
   ]
  },
  {
   "cell_type": "code",
   "execution_count": 9,
   "metadata": {},
   "outputs": [],
   "source": [
    "import io\n",
    "\n",
    "def line_to_char(lines):\n",
    "    for line in lines:\n",
    "        for c in dziel(cleanup(line)):\n",
    "            yield c\n",
    "        yield '\\n'\n",
    "        \n",
    "\n",
    "with open('felieton.txt', 'r', encoding='utf-8') as f:\n",
    "    with open('felieton.out.txt', 'w', encoding='utf-8') as out:\n",
    "        for c in polacz(line_to_char(f)):\n",
    "            out.write(c)"
   ]
  },
  {
   "attachments": {},
   "cell_type": "markdown",
   "metadata": {},
   "source": [
    "## TODO\n",
    "- poprawić błędy ze sklepów cynamonowych\n",
    "- statystyki dla par samogłosek i ligatury dla najpopularniejszych\n",
    "\n",
    "### Pomysły\n",
    "- strona online do konwersji (2 kolumny)"
   ]
  }
 ],
 "metadata": {
  "kernelspec": {
   "display_name": "Python 3",
   "language": "python",
   "name": "python3"
  },
  "language_info": {
   "codemirror_mode": {
    "name": "ipython",
    "version": 3
   },
   "file_extension": ".py",
   "mimetype": "text/x-python",
   "name": "python",
   "nbconvert_exporter": "python",
   "pygments_lexer": "ipython3",
   "version": "3.9.14"
  },
  "orig_nbformat": 4,
  "vscode": {
   "interpreter": {
    "hash": "397704579725e15f5c7cb49fe5f0341eb7531c82d19f2c29d197e8b64ab5776b"
   }
  }
 },
 "nbformat": 4,
 "nbformat_minor": 2
}
